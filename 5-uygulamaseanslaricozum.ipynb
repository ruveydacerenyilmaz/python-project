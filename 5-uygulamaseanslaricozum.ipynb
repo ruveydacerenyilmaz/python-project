{
 "cells": [
  {
   "cell_type": "code",
   "execution_count": 8,
   "metadata": {},
   "outputs": [
    {
     "name": "stdout",
     "output_type": "stream",
     "text": [
      "Tersi:  sisterlab\n"
     ]
    }
   ],
   "source": [
    "list1 = input(\"\")\n",
    "cikti = lambda x: x.upper()[::-1]\n",
    "print(\"Tersi: \", list1)"
   ]
  },
  {
   "cell_type": "code",
   "execution_count": 4,
   "metadata": {},
   "outputs": [
    {
     "name": "stdout",
     "output_type": "stream",
     "text": [
      "300\n"
     ]
    }
   ],
   "source": [
    "#Girilen değer 5-10 arasında ise sayının 5 katını, 10'dan büyükse 10 katını dönen bir lambda fonksiyonu ve normal fonksiyon yazın.\n",
    "\n",
    "lambdaFunction = lambda number: number * 5 if (5 < number <= 10) else (number * 10 if number > 10 else number)\n",
    "def normalFunction(number):\n",
    "    if 5 < number <= 10:\n",
    "        return number * 5\n",
    "    elif number > 10:\n",
    "        return number * 10\n",
    "    else:\n",
    "        return number\n",
    "\n",
    "print(lambdaFunction(6))\n",
    "print(normalFunction(6))\n",
    "\n"
   ]
  },
  {
   "cell_type": "code",
   "execution_count": 9,
   "metadata": {},
   "outputs": [
    {
     "name": "stdout",
     "output_type": "stream",
     "text": [
      "[57, 75, 13, 63, 3, 23, 3453, 111211]\n"
     ]
    }
   ],
   "source": [
    "list_ = [34, 12, 64, 57, 75, 13, 63, 3, 23, 232, 3453, 111211]\n",
    "print(list(filter(lambda x: x %2 !=0, list_)))"
   ]
  },
  {
   "cell_type": "markdown",
   "metadata": {},
   "source": [
    "[0,1,2,3,4,5,6,7,9,10,12] Verilen listenin\n",
    "\n",
    "3.indexi ile 6.indexi arasındaki değerleri yazdırınız.\n",
    "Listeyi tersten yazdırınız.\n",
    "Listeye 10'dan sonra olacak şekilde 11 değerini ekleyiniz.\n",
    "Listenin en başına -15 değerini ekleyiniz.\n",
    "Listenin sonundaki değeri siliniz ve ekrana yazdırınız.\n",
    "Listeye 5.indexten başlayarak 50 ve 51 değerlerini ekleyiniz.\n",
    "Listedeki her bir değeri, değerin 10 ile çarpımı ile güncelleyiniz.\n",
    "Listedeki her bir değer için, eğer değer 2'nin katı ise değeri değerin 5'e bölümü ile 2'nin katı değilse değere 2 ekleyerek güncelleyiniz."
   ]
  },
  {
   "cell_type": "code",
   "execution_count": 19,
   "metadata": {},
   "outputs": [
    {
     "name": "stdout",
     "output_type": "stream",
     "text": [
      "[3, 4, 5]\n",
      "[12, 10, 9, 7, 6, 5, 4, 3, 2, 1, 0]\n",
      "[0, 1, 2, 3, 4, 5, 6, 7, 9, 10, 11, 12]\n",
      "[-15, 0, 1, 2, 3, 4, 5, 6, 7, 9, 10, 11, 12]\n",
      "[-15, 0, 1, 2, 3, 4, 5, 6, 7, 9, 10, 11]\n",
      "[-15, 0, 1, 2, 3, 50, 51, 4, 5, 6, 7, 9, 10, 11]\n",
      "[-150, 0, 10, 20, 30, 500, 510, 40, 50, 60, 70, 90, 100, 110]\n",
      "[-13, 0, 3, 0, 5, 10, 53, 0, 7, 1, 9, 11, 2, 13]\n"
     ]
    }
   ],
   "source": [
    "my_list = [0,1,2,3,4,5,6,7,9,10,12]\n",
    "print(my_list[3:6])\n",
    "print(my_list[::-1])\n",
    "my_list.insert(10,11)\n",
    "print(my_list)\n",
    "my_list.insert(0,-15)\n",
    "print(my_list)\n",
    "my_list.pop()\n",
    "print(my_list)\n",
    "my_list[5:5] = [50, 51]\n",
    "print(my_list)\n",
    "print(list(map(lambda x: x*10, my_list)))\n",
    "print(list(map(lambda y: y // 5 if y % 2==0 else y + 2, my_list)))\n"
   ]
  },
  {
   "cell_type": "markdown",
   "metadata": {},
   "source": [
    "Kendisine parametre olarak verilen listenin içerisindeki sayıları toplayan ve bu sonucu dönen bir fonksiyon yazınız.\n",
    "\n",
    "Kendisine parametre olarak verilen listenin içerisindeki sayıları çarpan ve bu sonucu dönen bir fonksiyon yazınız.\n",
    "\n",
    "Kendisine parametre olarak verilen listenin içerisindeki sayıların 5 ile bölümünden kalanlarının toplamını dönen bir fonksiyon yazınız."
   ]
  },
  {
   "cell_type": "code",
   "execution_count": 36,
   "metadata": {},
   "outputs": [
    {
     "data": {
      "text/plain": [
       "22"
      ]
     },
     "execution_count": 36,
     "metadata": {},
     "output_type": "execute_result"
    }
   ],
   "source": [
    "def func(number):\n",
    "    total=0\n",
    "    for i in number:\n",
    "        total += i\n",
    "\n",
    "    return total\n",
    "func([2,5,7,8])"
   ]
  },
  {
   "cell_type": "code",
   "execution_count": 38,
   "metadata": {},
   "outputs": [
    {
     "data": {
      "text/plain": [
       "80"
      ]
     },
     "execution_count": 38,
     "metadata": {},
     "output_type": "execute_result"
    }
   ],
   "source": [
    "def func(number):\n",
    "    total=1\n",
    "    for i in number:\n",
    "        total *= i\n",
    "    return total\n",
    "func([2,5,8])"
   ]
  },
  {
   "cell_type": "code",
   "execution_count": 45,
   "metadata": {},
   "outputs": [
    {
     "name": "stdout",
     "output_type": "stream",
     "text": [
      "6\n"
     ]
    }
   ],
   "source": [
    "def func(number):\n",
    "    kalan=0\n",
    "    for i in number:\n",
    "        if i %5 !=0:\n",
    "            kalan += i%5\n",
    "    return kalan\n",
    "\n",
    "listee= [12,14]\n",
    "print(func(listee))"
   ]
  },
  {
   "cell_type": "code",
   "execution_count": 1,
   "metadata": {},
   "outputs": [
    {
     "name": "stdout",
     "output_type": "stream",
     "text": [
      "(1, 10)\n"
     ]
    }
   ],
   "source": [
    "def getSmallestAndGreatest(givenList):\n",
    "    smallest = greatest = None\n",
    "    for item in givenList:\n",
    "        if smallest is None or smallest > item:\n",
    "            smallest = item\n",
    "        if greatest is None or greatest < item:\n",
    "            greatest = item\n",
    "\n",
    "    return smallest, greatest\n",
    "\n",
    "myList = [1,2,3,5,10]\n",
    "print(getSmallestAndGreatest(myList))"
   ]
  },
  {
   "cell_type": "markdown",
   "metadata": {},
   "source": [
    "Kendisine parametre olarak verilen listenin içerisindeki sayılardan, kendisine parametre olarak verilen sayıya tam bölünenlerin toplamını döndüren bir fonksiyon yazınız. Fonksiyon aşağıdaki gibi görünebilir.\n",
    "\n",
    "def tam_bolunenleri_topla(liste, bolunecek_sayi)\n",
    "    return tam_bolunenlerin_toplami"
   ]
  },
  {
   "cell_type": "code",
   "execution_count": 1,
   "metadata": {},
   "outputs": [
    {
     "name": "stdout",
     "output_type": "stream",
     "text": [
      "30\n"
     ]
    }
   ],
   "source": [
    "def tambolunenleritopla(liste,boluneceksayi):\n",
    "    tambolunenleritoplami = 0\n",
    "    for sayi in liste:\n",
    "        if sayi % boluneceksayi == 0:\n",
    "            tambolunenleritoplami +=sayi\n",
    "    return tambolunenleritoplami\n",
    "my_list=[1,2,3,4,6,8,10]\n",
    "print(tambolunenleritopla(my_list,2))"
   ]
  },
  {
   "cell_type": "markdown",
   "metadata": {},
   "source": [
    "-1000 ile 1000 aralığında random sayılardan oluşan 250 elemanlı bir liste oluşturunuz. Sonrasında oluşturduğunuz bu liste ile aşağıdaki işlemleri yapınız.\n",
    "\n",
    "* Bu liste içerisinde kaç adet pozitif, kaç adet negatif sayı olduğunu bulunuz.\n",
    "* Bu liste içerisinde kaç adet tek, kaç adet çift sayı olduğunu bulunuz.\n",
    "* Bu liste içerisinde 3'e tam bölünen sayıların toplamını bulunuz.\n",
    "* Bu liste içerisinde 5'e tam bölünen sayıların toplamını bulunuz.\n",
    "* Bu liste içerisinde 15'e tam bölünen sayıların toplamını bulunuz.\n",
    "* Bu liste içerisindeki çift sayıların ve tek sayıların toplamını bulunuz.\n",
    "* Bu liste içerisinde çift indexte bulunan sayıların toplamını bulunuz.\n",
    "* Listedeki her bir değer için, eğer değer pozitif ise 10 çıkarınız değilse 20 ekleyiniz.\n",
    "* Listedeki pozitif ve negatif değerlerin en büyüğünü ayrı ayrı bulunuz."
   ]
  },
  {
   "cell_type": "code",
   "execution_count": 15,
   "metadata": {},
   "outputs": [
    {
     "name": "stdout",
     "output_type": "stream",
     "text": [
      "[951, -836, 307, -199, -305, 685, 37, -91, -220, -51, 832, 396, 597, 905, -783, -239, 658, -662, -514, 198, 556, -192, 659, -120, 907, 544, 606, -881, -408, -1000]\n",
      "pozitif: 15\n",
      "negatif: 15\n",
      "Çift:  15\n",
      "Tek:  15\n",
      "3e bölünen:  1194\n",
      "-55\n",
      "15e bölünen:  -120\n",
      "çift toplam: -162, tek toplam: 2499\n",
      "3880\n",
      "951\n",
      "-51\n"
     ]
    }
   ],
   "source": [
    "from operator import ne\n",
    "import random\n",
    "randomList=[]\n",
    "\n",
    "for i in range(30):\n",
    "  randomList.append(random.randint(-1000,1000))\n",
    "print(randomList)\n",
    "\n",
    "#soru1\n",
    "positive = negative =0 \n",
    "for i in randomList:\n",
    "  if i > 0:\n",
    "    positive = positive+1\n",
    "  else:\n",
    "    negative = negative+1\n",
    "print(\"pozitif:\",positive)\n",
    "\n",
    "print(\"negatif:\",negative)\n",
    "\n",
    "#soru2\n",
    "count_odd = count_even = 0\n",
    "myList = []\n",
    "for i in randomList:\n",
    "    if i % 2 == 0:\n",
    "        count_even += 1\n",
    "    else: count_odd += 1\n",
    "print(\"Çift: \",count_even)\n",
    "print(\"Tek: \",count_odd)\n",
    "\n",
    "#soru3\n",
    "total = 0\n",
    "for i in randomList:\n",
    "  if i % 3==0:\n",
    "    total +=i\n",
    "print(\"3e bölünen: \", total)\n",
    "\n",
    "#soru4\n",
    "\n",
    "def division_5(liste):\n",
    "  toplam=0\n",
    "  for item in liste:\n",
    "    if item %5==0:\n",
    "      toplam+=item\n",
    "  return toplam\n",
    "print(division_5(randomList))\n",
    "\n",
    "#soru5\n",
    "toplam15 = 0\n",
    "for i in randomList:\n",
    "  if i % 15==0:\n",
    "    toplam15 +=i\n",
    "print(\"15e bölünen: \", toplam15)\n",
    "\n",
    "#soru6\n",
    "toplamcift = toplamtek = 0\n",
    "for i in randomList:\n",
    "  if i %2==0:\n",
    "    toplamcift +=i\n",
    "  else:\n",
    "    toplamtek +=i\n",
    "print(f\"çift toplam: {toplamcift}, tek toplam: {toplamtek}\")\n",
    "\n",
    "#soru7\n",
    "print(sum(randomList[0:len(randomList):2]))\n",
    "\n",
    "#soru8\n",
    "#pozitif = negatif = 0\n",
    "#for index in range(len(randomList)):\n",
    " # if randomList[index] >0:\n",
    "  #  randomList[index] -=10\n",
    "  #else:\n",
    "   # randomList[index] +=20\n",
    "\n",
    "#print(randomList)\n",
    "\n",
    "#map ile çözüm\n",
    "#print(list(map(lambda number: number-10 if number>0 else number+20, randomList)))\n",
    "#soru9\n",
    "pozitifMAx = negatifMAx = None\n",
    "\n",
    "for i in randomList:\n",
    "  if i>0 and (pozitifMAx is None or i>pozitifMAx):\n",
    "    pozitifMAx = i\n",
    "  if i<0 and (negatifMAx is None or negatifMAx<i):\n",
    "    negatifMAx = i\n",
    "\n",
    "print(pozitifMAx)\n",
    "print(negatifMAx)"
   ]
  },
  {
   "cell_type": "code",
   "execution_count": null,
   "metadata": {},
   "outputs": [],
   "source": []
  }
 ],
 "metadata": {
  "kernelspec": {
   "display_name": "Python 3.10.6 64-bit",
   "language": "python",
   "name": "python3"
  },
  "language_info": {
   "codemirror_mode": {
    "name": "ipython",
    "version": 3
   },
   "file_extension": ".py",
   "mimetype": "text/x-python",
   "name": "python",
   "nbconvert_exporter": "python",
   "pygments_lexer": "ipython3",
   "version": "3.10.6"
  },
  "orig_nbformat": 4,
  "vscode": {
   "interpreter": {
    "hash": "9624578c985f44420bdf532c620c13a9f13c360a52c0692b61f3ec1fa411c6c5"
   }
  }
 },
 "nbformat": 4,
 "nbformat_minor": 2
}
