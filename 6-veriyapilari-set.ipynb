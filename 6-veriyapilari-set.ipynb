{
 "cells": [
  {
   "cell_type": "markdown",
   "metadata": {},
   "source": [
    "**Set**\n",
    "\n",
    "* index ile erişilemezler.Unordered yani sıralı değillerdir. Bir sete erişmek istediğinizde sıralama her seferinde farklılaşacaktır.\n",
    "* Set'ler değiştirilemezler, yani immutable.Tuple'dan farkı yeni eleman ekleyip çıkarabliyoruz, ama setin içerisindeki bir elemanı değiştiremiyoruz.\n",
    "* {} parantez içerisinde virgüllerle ayrılarak tanımlanır.\n",
    "* Farklı tipte veri taşımaya izin verir.\n",
    "* Aynı değeri sahip iki eleman YER ALAMAZ. Duplicate veri taşımazlar."
   ]
  },
  {
   "cell_type": "code",
   "execution_count": 1,
   "metadata": {},
   "outputs": [],
   "source": [
    "int_set = {1,2,3,4}\n",
    "str_set = {\"Rüveyda\", \"Ece\", \"Merve\", \"Zeynep\", \"Bilge\"}\n",
    "\n",
    "mix_set = {12, \"Sude\", 10234.6, True}"
   ]
  },
  {
   "cell_type": "code",
   "execution_count": 5,
   "metadata": {},
   "outputs": [
    {
     "name": "stdout",
     "output_type": "stream",
     "text": [
      "{'Sude', 10234.6, 12, True}\n"
     ]
    }
   ],
   "source": [
    "print(mix_set)"
   ]
  },
  {
   "cell_type": "code",
   "execution_count": 6,
   "metadata": {},
   "outputs": [
    {
     "name": "stdout",
     "output_type": "stream",
     "text": [
      "<class 'set'>\n"
     ]
    }
   ],
   "source": [
    "print(type(mix_set))"
   ]
  },
  {
   "cell_type": "code",
   "execution_count": 13,
   "metadata": {},
   "outputs": [
    {
     "name": "stdout",
     "output_type": "stream",
     "text": [
      "{0, 1, 2, 3, 8, 9}\n"
     ]
    }
   ],
   "source": [
    "my_set = {1, 3, 8, 1, 2, 8, 0, 9}\n",
    "print(my_set)"
   ]
  },
  {
   "cell_type": "code",
   "execution_count": 11,
   "metadata": {},
   "outputs": [
    {
     "name": "stdout",
     "output_type": "stream",
     "text": [
      "[3, 8, 2, 'Ece', 'Ece', True, 8, False, 9, 19, False, 3, 2]\n",
      "{False, 'Ece', 2, 3, True, 8, 9, 19}\n"
     ]
    }
   ],
   "source": [
    "mylist = [ 3, 8,  2, \"Ece\", \"Ece\", True, 8,  False, 9, 19, False, 3, 2]\n",
    "print(mylist)\n",
    "\n",
    "my_set = set(mylist)\n",
    "print(my_set)"
   ]
  },
  {
   "cell_type": "code",
   "execution_count": 17,
   "metadata": {},
   "outputs": [
    {
     "name": "stdout",
     "output_type": "stream",
     "text": [
      "{'Duygu', 'Başak', 'Ayşe Nur', ('Müzeyyen', 'İrem', 'Nihal')}\n"
     ]
    }
   ],
   "source": [
    "#Tuple'lar değişitirilemez olduğundan set içeriinde parantezle gösterileblir.\n",
    "#Set içerisinde tuple kullanımı\n",
    "my_set  = {\"Ayşe Nur\", \"Duygu\", \"Başak\", (\"Müzeyyen\", \"İrem\", \"Nihal\")}\n",
    "print(my_set)"
   ]
  },
  {
   "cell_type": "code",
   "execution_count": 1,
   "metadata": {},
   "outputs": [
    {
     "ename": "TypeError",
     "evalue": "unhashable type: 'list'",
     "output_type": "error",
     "traceback": [
      "\u001b[1;31m---------------------------------------------------------------------------\u001b[0m",
      "\u001b[1;31mTypeError\u001b[0m                                 Traceback (most recent call last)",
      "\u001b[1;32mc:\\Users\\Rüveyda\\OneDrive\\Masaüstü\\sisterslab\\python-project\\python-project\\6-veriyapilari-set.ipynb Hücre 8\u001b[0m in \u001b[0;36m<cell line: 3>\u001b[1;34m()\u001b[0m\n\u001b[0;32m      <a href='vscode-notebook-cell:/c%3A/Users/R%C3%BCveyda/OneDrive/Masa%C3%BCst%C3%BC/sisterslab/python-project/python-project/6-veriyapilari-set.ipynb#X10sZmlsZQ%3D%3D?line=0'>1</a>\u001b[0m \u001b[39m#Bir setin içerisinde değiştirilebilir özellikli listeler tutulamaz.\u001b[39;00m\n\u001b[0;32m      <a href='vscode-notebook-cell:/c%3A/Users/R%C3%BCveyda/OneDrive/Masa%C3%BCst%C3%BC/sisterslab/python-project/python-project/6-veriyapilari-set.ipynb#X10sZmlsZQ%3D%3D?line=1'>2</a>\u001b[0m \u001b[39m#Set içerisinde list kullanımı\u001b[39;00m\n\u001b[1;32m----> <a href='vscode-notebook-cell:/c%3A/Users/R%C3%BCveyda/OneDrive/Masa%C3%BCst%C3%BC/sisterslab/python-project/python-project/6-veriyapilari-set.ipynb#X10sZmlsZQ%3D%3D?line=2'>3</a>\u001b[0m my_set  \u001b[39m=\u001b[39m {\u001b[39m\"\u001b[39m\u001b[39mAyşe Nur\u001b[39m\u001b[39m\"\u001b[39m, \u001b[39m\"\u001b[39m\u001b[39mDuygu\u001b[39m\u001b[39m\"\u001b[39m, \u001b[39m\"\u001b[39m\u001b[39mBaşak\u001b[39m\u001b[39m\"\u001b[39m, [\u001b[39m\"\u001b[39m\u001b[39mMüzeyyen\u001b[39m\u001b[39m\"\u001b[39m, \u001b[39m\"\u001b[39m\u001b[39mİrem\u001b[39m\u001b[39m\"\u001b[39m, \u001b[39m\"\u001b[39m\u001b[39mNihal\u001b[39m\u001b[39m\"\u001b[39m]}\n\u001b[0;32m      <a href='vscode-notebook-cell:/c%3A/Users/R%C3%BCveyda/OneDrive/Masa%C3%BCst%C3%BC/sisterslab/python-project/python-project/6-veriyapilari-set.ipynb#X10sZmlsZQ%3D%3D?line=3'>4</a>\u001b[0m \u001b[39mprint\u001b[39m(my_set)\n",
      "\u001b[1;31mTypeError\u001b[0m: unhashable type: 'list'"
     ]
    }
   ],
   "source": [
    "#Bir setin içerisinde değiştirilebilir özellikli listeler tutulamaz.\n",
    "#Set içerisinde list kullanımı\n",
    "my_set  = {\"Ayşe Nur\", \"Duygu\", \"Başak\", [\"Müzeyyen\", \"İrem\", \"Nihal\"]}\n",
    "print(my_set)"
   ]
  },
  {
   "cell_type": "markdown",
   "metadata": {},
   "source": [
    "**Boş bir set oluşturma;**\n",
    "\n",
    "* **empty_set**  = set( )\n",
    "\n",
    "Boş bir liste ve tuple oluşturmak istedğimizde;\n",
    "* **my_list = [ ]**\n",
    "* **my_tuple = ( )**\n",
    "\n",
    "Setlerde durum farklıdır.\n"
   ]
  },
  {
   "cell_type": "code",
   "execution_count": 19,
   "metadata": {},
   "outputs": [
    {
     "name": "stdout",
     "output_type": "stream",
     "text": [
      "<class 'set'>\n"
     ]
    }
   ],
   "source": [
    "empty_set  = set()\n",
    "print(type(empty_set))"
   ]
  },
  {
   "cell_type": "code",
   "execution_count": 20,
   "metadata": {},
   "outputs": [
    {
     "name": "stdout",
     "output_type": "stream",
     "text": [
      "<class 'dict'>\n"
     ]
    }
   ],
   "source": [
    "empty_set = {}\n",
    "print(type(empty_set))"
   ]
  },
  {
   "cell_type": "markdown",
   "metadata": {},
   "source": [
    "**Elemanlara Erişim**"
   ]
  },
  {
   "cell_type": "code",
   "execution_count": 24,
   "metadata": {},
   "outputs": [
    {
     "name": "stdout",
     "output_type": "stream",
     "text": [
      "The Big Bang Theory\n",
      "Breaking Bad\n",
      "Friends\n",
      "Person of Interest\n",
      "How I Met Your Mother?\n"
     ]
    }
   ],
   "source": [
    "movies = {\"How I Met Your Mother?\", \"The Big Bang Theory\", \"Breaking Bad\", \"Friends\", \"Person of Interest\"}\n",
    "\n",
    "for item in movies:\n",
    "    print(item)"
   ]
  },
  {
   "cell_type": "markdown",
   "metadata": {},
   "source": [
    "**Set içerisinde eleman kontrolü**"
   ]
  },
  {
   "cell_type": "code",
   "execution_count": 27,
   "metadata": {},
   "outputs": [
    {
     "name": "stdout",
     "output_type": "stream",
     "text": [
      "Diziler içerisinde mevcut değil\n"
     ]
    }
   ],
   "source": [
    "movies = {\"How I Met Your Mother?\", \"The Big Bang Theory\", \"Breaking Bad\", \"Friends\", \"Person of Interest\"}\n",
    "#in kontrolüyle true false karşılaştırması yaparak kontrol ederiz.\n",
    "#in var mı, not in yok mu kontrolü\n",
    "if \"Harry Pother\" in movies: print(\"Diziler içerisinde mevcut\")\n",
    "else: print(\"Diziler içerisinde mevcut değil\")"
   ]
  },
  {
   "cell_type": "code",
   "execution_count": 28,
   "metadata": {},
   "outputs": [
    {
     "name": "stdout",
     "output_type": "stream",
     "text": [
      "Dizi Setinin uzunluğu:  5\n"
     ]
    }
   ],
   "source": [
    "print(\"Dizi Setinin uzunluğu: \", len(movies))"
   ]
  },
  {
   "cell_type": "markdown",
   "metadata": {},
   "source": [
    "**Bir Set'e Eleman Ekleme**\n",
    "* **add()** ile set'e yeni bir eleman ekliyoruz.\n",
    "* **update()** ile birden fazla değer ekleme işlemi yapabiliyoruz. "
   ]
  },
  {
   "cell_type": "code",
   "execution_count": 40,
   "metadata": {},
   "outputs": [
    {
     "name": "stdout",
     "output_type": "stream",
     "text": [
      "{'Müşterinizin Beynindeki Satın Alma Düğmesine Basmak', 'Harry Potter', 'Merhaba Dünya', 'Serenad', 'Bu İş Asla Tutmaz'}\n",
      "{'Müşterinizin Beynindeki Satın Alma Düğmesine Basmak', 'Harry Potter', 'Merhaba Dünya', 'Serenad', 'Bu İş Asla Tutmaz'}\n"
     ]
    }
   ],
   "source": [
    "books = {\"Harry Potter\", \"Serenad\", \"Müşterinizin Beynindeki Satın Alma Düğmesine Basmak\", \"Merhaba Dünya\"}\n",
    "\n",
    "books.add(\"Bu İş Asla Tutmaz\")\n",
    "print(books)\n",
    "\n",
    "books.add(\"Harry Potter\") #mevcut değeri yeniden eklemez.\n",
    "print(books)"
   ]
  },
  {
   "cell_type": "code",
   "execution_count": 41,
   "metadata": {},
   "outputs": [
    {
     "data": {
      "text/plain": [
       "{'Bu İş Asla Tutmaz',\n",
       " 'Harry Potter',\n",
       " 'Körlük',\n",
       " 'Merhaba Dünya',\n",
       " 'Müşterinizin Beynindeki Satın Alma Düğmesine Basmak',\n",
       " 'Serenad',\n",
       " 'İnce Memed'}"
      ]
     },
     "execution_count": 41,
     "metadata": {},
     "output_type": "execute_result"
    }
   ],
   "source": [
    "#update\n",
    "\n",
    "books.update([\"Körlük\",\"İnce Memed\"])\n",
    "books"
   ]
  },
  {
   "cell_type": "markdown",
   "metadata": {},
   "source": [
    "Bir set içerisinde Eleman Silme\n",
    "\n",
    "* remove()\n",
    "* discard()\n",
    "* pop()\n",
    "* clear()\n",
    "* del set"
   ]
  },
  {
   "cell_type": "code",
   "execution_count": 58,
   "metadata": {},
   "outputs": [
    {
     "data": {
      "text/plain": [
       "{'Bu İş Asla Tutmaz',\n",
       " 'Körlük',\n",
       " 'Merhaba Dünya',\n",
       " 'Müşterinizin Beynindeki Satın Alma Düğmesine Basmak',\n",
       " 'Serenad',\n",
       " 'İnce Memed'}"
      ]
     },
     "execution_count": 58,
     "metadata": {},
     "output_type": "execute_result"
    }
   ],
   "source": [
    "#remove()\n",
    "books = {'Bu İş Asla Tutmaz','Harry Potter','Körlük','Merhaba Dünya','Müşterinizin Beynindeki Satın Alma Düğmesine Basmak','Serenad','İnce Memed'}\n",
    "\n",
    "books.remove(\"Harry Potter\")\n",
    "books"
   ]
  },
  {
   "cell_type": "code",
   "execution_count": 59,
   "metadata": {},
   "outputs": [
    {
     "ename": "KeyError",
     "evalue": "'Harry Potter'",
     "output_type": "error",
     "traceback": [
      "\u001b[1;31m---------------------------------------------------------------------------\u001b[0m",
      "\u001b[1;31mKeyError\u001b[0m                                  Traceback (most recent call last)",
      "\u001b[1;32mc:\\Users\\Rüveyda\\OneDrive\\Masaüstü\\sisterslab\\python-ders\\6-veriyapilari-set.ipynb Hücre 22\u001b[0m in \u001b[0;36m<cell line: 2>\u001b[1;34m()\u001b[0m\n\u001b[0;32m      <a href='vscode-notebook-cell:/c%3A/Users/R%C3%BCveyda/OneDrive/Masa%C3%BCst%C3%BC/sisterslab/python-ders/6-veriyapilari-set.ipynb#X31sZmlsZQ%3D%3D?line=0'>1</a>\u001b[0m \u001b[39m#Set içerisinde olmayan bir değeri silmek istersek hata alırız.\u001b[39;00m\n\u001b[1;32m----> <a href='vscode-notebook-cell:/c%3A/Users/R%C3%BCveyda/OneDrive/Masa%C3%BCst%C3%BC/sisterslab/python-ders/6-veriyapilari-set.ipynb#X31sZmlsZQ%3D%3D?line=1'>2</a>\u001b[0m books\u001b[39m.\u001b[39;49mremove(\u001b[39m\"\u001b[39;49m\u001b[39mHarry Potter\u001b[39;49m\u001b[39m\"\u001b[39;49m)\n\u001b[0;32m      <a href='vscode-notebook-cell:/c%3A/Users/R%C3%BCveyda/OneDrive/Masa%C3%BCst%C3%BC/sisterslab/python-ders/6-veriyapilari-set.ipynb#X31sZmlsZQ%3D%3D?line=2'>3</a>\u001b[0m books\n",
      "\u001b[1;31mKeyError\u001b[0m: 'Harry Potter'"
     ]
    }
   ],
   "source": [
    "#Set içerisinde olmayan bir değeri silmek istersek hata alırız.\n",
    "books.remove(\"Harry Potter\")\n",
    "books"
   ]
  },
  {
   "cell_type": "code",
   "execution_count": 60,
   "metadata": {},
   "outputs": [
    {
     "data": {
      "text/plain": [
       "{'Bu İş Asla Tutmaz', 'Körlük', 'Merhaba Dünya', 'Serenad', 'İnce Memed'}"
      ]
     },
     "execution_count": 60,
     "metadata": {},
     "output_type": "execute_result"
    }
   ],
   "source": [
    "#discard() ->remove'dan farkı, olmayan değeri silmeye çalışınca hata vermez\n",
    "books.discard('Müşterinizin Beynindeki Satın Alma Düğmesine Basmak')\n",
    "books"
   ]
  },
  {
   "cell_type": "code",
   "execution_count": 61,
   "metadata": {},
   "outputs": [
    {
     "data": {
      "text/plain": [
       "{'Bu İş Asla Tutmaz', 'Körlük', 'Merhaba Dünya', 'Serenad', 'İnce Memed'}"
      ]
     },
     "execution_count": 61,
     "metadata": {},
     "output_type": "execute_result"
    }
   ],
   "source": [
    "books.discard(\"Harry Potter\")\n",
    "books"
   ]
  },
  {
   "cell_type": "code",
   "execution_count": 62,
   "metadata": {},
   "outputs": [
    {
     "data": {
      "text/plain": [
       "{'Bu İş Asla Tutmaz', 'Merhaba Dünya', 'Serenad', 'İnce Memed'}"
      ]
     },
     "execution_count": 62,
     "metadata": {},
     "output_type": "execute_result"
    }
   ],
   "source": [
    "#pop()-> rastegele sonundan bir eleman siler.\n",
    "books.pop()\n",
    "books"
   ]
  },
  {
   "cell_type": "code",
   "execution_count": 63,
   "metadata": {},
   "outputs": [
    {
     "data": {
      "text/plain": [
       "set()"
      ]
     },
     "execution_count": 63,
     "metadata": {},
     "output_type": "execute_result"
    }
   ],
   "source": [
    "#clear()-> tüm elemanları siler, boş bir set döner\n",
    "books.clear()\n",
    "books"
   ]
  },
  {
   "cell_type": "code",
   "execution_count": 64,
   "metadata": {},
   "outputs": [
    {
     "ename": "NameError",
     "evalue": "name 'books' is not defined",
     "output_type": "error",
     "traceback": [
      "\u001b[1;31m---------------------------------------------------------------------------\u001b[0m",
      "\u001b[1;31mNameError\u001b[0m                                 Traceback (most recent call last)",
      "\u001b[1;32mc:\\Users\\Rüveyda\\OneDrive\\Masaüstü\\sisterslab\\python-ders\\6-veriyapilari-set.ipynb Hücre 27\u001b[0m in \u001b[0;36m<cell line: 3>\u001b[1;34m()\u001b[0m\n\u001b[0;32m      <a href='vscode-notebook-cell:/c%3A/Users/R%C3%BCveyda/OneDrive/Masa%C3%BCst%C3%BC/sisterslab/python-ders/6-veriyapilari-set.ipynb#X36sZmlsZQ%3D%3D?line=0'>1</a>\u001b[0m \u001b[39m#del -> tamamını siler\u001b[39;00m\n\u001b[0;32m      <a href='vscode-notebook-cell:/c%3A/Users/R%C3%BCveyda/OneDrive/Masa%C3%BCst%C3%BC/sisterslab/python-ders/6-veriyapilari-set.ipynb#X36sZmlsZQ%3D%3D?line=1'>2</a>\u001b[0m \u001b[39mdel\u001b[39;00m books\n\u001b[1;32m----> <a href='vscode-notebook-cell:/c%3A/Users/R%C3%BCveyda/OneDrive/Masa%C3%BCst%C3%BC/sisterslab/python-ders/6-veriyapilari-set.ipynb#X36sZmlsZQ%3D%3D?line=2'>3</a>\u001b[0m books\n",
      "\u001b[1;31mNameError\u001b[0m: name 'books' is not defined"
     ]
    }
   ],
   "source": [
    "#del -> tamamını siler\n",
    "del books\n",
    "books"
   ]
  },
  {
   "cell_type": "markdown",
   "metadata": {},
   "source": [
    "Set üzerinde kullanabileceğimiz operatörler\n",
    "\n",
    "* union()-> |\n",
    "* intersection()-> &\n",
    "* difference()-> -\n",
    "* symmetric_difference()-> ^"
   ]
  },
  {
   "cell_type": "markdown",
   "metadata": {},
   "source": [
    "**Union()**\n",
    "\n",
    "İki seti birleştirmek için kullanılır. İki set içerisinde aynı değerden 2 tane varsa sadece 1 tanesini alır."
   ]
  },
  {
   "cell_type": "code",
   "execution_count": 65,
   "metadata": {},
   "outputs": [
    {
     "data": {
      "text/plain": [
       "{'Asena', 'Aysel', 'Behice', 'Emre', 'Ezgi', 'Hatice', 'Kübra', 'Merve'}"
      ]
     },
     "execution_count": 65,
     "metadata": {},
     "output_type": "execute_result"
    }
   ],
   "source": [
    "my_set1 = {\"Aysel\", \"Merve\", \"Emre\", \"Asena\", \"Ezgi\"}\n",
    "my_set2 = {\"Merve\", \"Ezgi\", \"Hatice\", \"Behice\", \"Kübra\"}\n",
    "\n",
    "my_set3  = my_set1 | my_set2 #operatör kullanımı\n",
    "\n",
    "my_set3"
   ]
  },
  {
   "cell_type": "code",
   "execution_count": 66,
   "metadata": {},
   "outputs": [
    {
     "data": {
      "text/plain": [
       "{'Asena', 'Aysel', 'Behice', 'Emre', 'Ezgi', 'Hatice', 'Kübra', 'Merve'}"
      ]
     },
     "execution_count": 66,
     "metadata": {},
     "output_type": "execute_result"
    }
   ],
   "source": [
    "my_set4 = my_set1.union(my_set2)\n",
    "my_set4"
   ]
  },
  {
   "cell_type": "markdown",
   "metadata": {},
   "source": [
    "**Intersection(Kesişim)**\n",
    "\n",
    "İki küme içerisinde yer alan ortak elemanları döndürür. Kesişim elemanları."
   ]
  },
  {
   "cell_type": "code",
   "execution_count": 69,
   "metadata": {},
   "outputs": [
    {
     "data": {
      "text/plain": [
       "{'Ezgi', 'Merve'}"
      ]
     },
     "execution_count": 69,
     "metadata": {},
     "output_type": "execute_result"
    }
   ],
   "source": [
    "my_set1 = {\"Aysel\", \"Merve\", \"Emre\", \"Asena\", \"Ezgi\"}\n",
    "my_set2 = {\"Merve\", \"Ezgi\", \"Hatice\", \"Behice\", \"Kübra\"}\n",
    "\n",
    "my_set3 = my_set1 & my_set2 #operatör kullanımı\n",
    "my_set3"
   ]
  },
  {
   "cell_type": "code",
   "execution_count": 71,
   "metadata": {},
   "outputs": [
    {
     "data": {
      "text/plain": [
       "{'Ezgi', 'Merve'}"
      ]
     },
     "execution_count": 71,
     "metadata": {},
     "output_type": "execute_result"
    }
   ],
   "source": [
    "my_set4 = my_set1.intersection(my_set2)\n",
    "my_set4"
   ]
  },
  {
   "cell_type": "markdown",
   "metadata": {},
   "source": [
    "**intersection_update()**\n",
    "\n",
    "Yalnızca her iki kümede de bulunan öğeleri tutacaktır."
   ]
  },
  {
   "cell_type": "code",
   "execution_count": 75,
   "metadata": {},
   "outputs": [
    {
     "data": {
      "text/plain": [
       "{'Ezgi', 'Merve'}"
      ]
     },
     "execution_count": 75,
     "metadata": {},
     "output_type": "execute_result"
    }
   ],
   "source": [
    "my_set1 = {\"Aysel\", \"Merve\", \"Emre\", \"Asena\", \"Ezgi\"}\n",
    "my_set2 = {\"Merve\", \"Ezgi\", \"Hatice\", \"Behice\", \"Kübra\"}\n",
    "\n",
    "my_set1.intersection_update(my_set2)\n",
    "my_set1"
   ]
  },
  {
   "cell_type": "markdown",
   "metadata": {},
   "source": [
    "**Difference()**\n",
    "\n",
    "Fark anlamına gelir. İki kümede farkını alır."
   ]
  },
  {
   "cell_type": "code",
   "execution_count": 83,
   "metadata": {},
   "outputs": [
    {
     "data": {
      "text/plain": [
       "{'Asena', 'Aysel', 'Emre'}"
      ]
     },
     "execution_count": 83,
     "metadata": {},
     "output_type": "execute_result"
    }
   ],
   "source": [
    "my_set1 = {\"Aysel\", \"Merve\", \"Emre\", \"Asena\", \"Ezgi\"}\n",
    "my_set2 = {\"Merve\", \"Ezgi\", \"Hatice\", \"Behice\", \"Kübra\"}\n",
    "\n",
    "my_set3 = my_set1 - my_set2 #operatör kullanımı\n",
    "my_set3"
   ]
  },
  {
   "cell_type": "code",
   "execution_count": 84,
   "metadata": {},
   "outputs": [
    {
     "data": {
      "text/plain": [
       "{'Asena', 'Aysel', 'Emre'}"
      ]
     },
     "execution_count": 84,
     "metadata": {},
     "output_type": "execute_result"
    }
   ],
   "source": [
    "my_set1.difference(my_set2)"
   ]
  },
  {
   "cell_type": "code",
   "execution_count": 85,
   "metadata": {},
   "outputs": [
    {
     "data": {
      "text/plain": [
       "{'Asena', 'Aysel', 'Emre', 'Ezgi', 'Merve'}"
      ]
     },
     "execution_count": 85,
     "metadata": {},
     "output_type": "execute_result"
    }
   ],
   "source": [
    "my_set1"
   ]
  },
  {
   "cell_type": "code",
   "execution_count": 88,
   "metadata": {},
   "outputs": [],
   "source": [
    "my_set1.difference_update(my_set2) #aradaki farkı bulup, bu sete o değerleri atar"
   ]
  },
  {
   "cell_type": "code",
   "execution_count": 89,
   "metadata": {},
   "outputs": [
    {
     "data": {
      "text/plain": [
       "{'Asena', 'Aysel', 'Emre'}"
      ]
     },
     "execution_count": 89,
     "metadata": {},
     "output_type": "execute_result"
    }
   ],
   "source": [
    "my_set1 #update olarak yaptığınız işlemlerde, hangi kümeyi başta kullanılıyorsa o küme updatele yapılan işlemi alıyor."
   ]
  },
  {
   "cell_type": "markdown",
   "metadata": {},
   "source": [
    "**Symmetric Difference**\n",
    "\n",
    "Kesişim dışında kalan değerleri almak için kullanılır. Yalnızca her iki kümede de OLMAYAN öğeleri içeren yeni bir küme döndürür. "
   ]
  },
  {
   "cell_type": "code",
   "execution_count": 99,
   "metadata": {},
   "outputs": [
    {
     "data": {
      "text/plain": [
       "{'Asena', 'Aysel', 'Behice', 'Emre', 'Hatice', 'Kübra'}"
      ]
     },
     "execution_count": 99,
     "metadata": {},
     "output_type": "execute_result"
    }
   ],
   "source": [
    "my_set1 = {\"Aysel\", \"Merve\", \"Emre\", \"Asena\", \"Ezgi\"}\n",
    "my_set2 = {\"Merve\", \"Ezgi\", \"Hatice\", \"Behice\", \"Kübra\"}\n",
    "\n",
    "unique_set = my_set1 ^ my_set2 #operatör kullanımı\n",
    "unique_set"
   ]
  },
  {
   "cell_type": "code",
   "execution_count": 100,
   "metadata": {},
   "outputs": [
    {
     "data": {
      "text/plain": [
       "{'Asena', 'Aysel', 'Behice', 'Emre', 'Hatice', 'Kübra'}"
      ]
     },
     "execution_count": 100,
     "metadata": {},
     "output_type": "execute_result"
    }
   ],
   "source": [
    "unique_set2 = my_set2.symmetric_difference(my_set1)\n",
    "unique_set"
   ]
  },
  {
   "cell_type": "markdown",
   "metadata": {},
   "source": [
    "**Symmetric Difference Update**"
   ]
  },
  {
   "cell_type": "code",
   "execution_count": 101,
   "metadata": {},
   "outputs": [
    {
     "data": {
      "text/plain": [
       "{'Asena', 'Aysel', 'Behice', 'Emre', 'Hatice', 'Kübra'}"
      ]
     },
     "execution_count": 101,
     "metadata": {},
     "output_type": "execute_result"
    }
   ],
   "source": [
    "my_set1.symmetric_difference_update(my_set2)\n",
    "#her iki kümede de olmayan değeri tutmayarak ilk kümeye atama yapılarak yazdırılır.\n",
    "my_set1"
   ]
  },
  {
   "cell_type": "markdown",
   "metadata": {},
   "source": [
    "**Kopyalama İşlemleri**\n",
    "\n",
    "* copy()\n",
    "* =\n",
    "* set()"
   ]
  },
  {
   "cell_type": "code",
   "execution_count": 108,
   "metadata": {},
   "outputs": [
    {
     "data": {
      "text/plain": [
       "{18, 'Ahmet', 'Sezen', True, 'Vildan'}"
      ]
     },
     "execution_count": 108,
     "metadata": {},
     "output_type": "execute_result"
    }
   ],
   "source": [
    "# = operatörü ile\n",
    "my_set = {\"Sezen\", \"Ahmet\", True, 18}\n",
    "my_set2 = my_set\n",
    "\n",
    "my_set.add(\"Vildan\")\n",
    "my_set2"
   ]
  },
  {
   "cell_type": "code",
   "execution_count": 110,
   "metadata": {},
   "outputs": [
    {
     "data": {
      "text/plain": [
       "{18, 'Ahmet', 'Sezen', True}"
      ]
     },
     "execution_count": 110,
     "metadata": {},
     "output_type": "execute_result"
    }
   ],
   "source": [
    "#copy() methodu ile\n",
    "my_set = {\"Sezen\", \"Ahmet\", True, 18}\n",
    "my_set2 = my_set.copy()\n",
    "\n",
    "my_set.add(\"Vildan\")\n",
    "my_set2"
   ]
  },
  {
   "cell_type": "code",
   "execution_count": 111,
   "metadata": {},
   "outputs": [
    {
     "data": {
      "text/plain": [
       "{18, 'Ahmet', 'Sezen', True}"
      ]
     },
     "execution_count": 111,
     "metadata": {},
     "output_type": "execute_result"
    }
   ],
   "source": [
    "# set() methodu ile\n",
    "my_set = {\"Sezen\", \"Ahmet\", True, 18}\n",
    "my_set2 = set(my_set)\n",
    "\n",
    "my_set.add(\"Vildan\")\n",
    "my_set2"
   ]
  },
  {
   "cell_type": "markdown",
   "metadata": {},
   "source": [
    "subset and superset\n",
    "\n",
    "altküme ve üst küme"
   ]
  },
  {
   "cell_type": "code",
   "execution_count": 113,
   "metadata": {},
   "outputs": [
    {
     "name": "stdout",
     "output_type": "stream",
     "text": [
      "True\n",
      "False\n"
     ]
    }
   ],
   "source": [
    "languages = {\"Python\", \"C#\", \"Java\", \"Kotlin\", \"Dart\"}\n",
    "languages2 = {\"Kotlin\", \"Java\"}\n",
    "#languages languages2'nin üst kümesi midir\n",
    "print(languages.issuperset(languages2)) #üst kümesi (superset) mi diye soruluyor\n",
    "print(languages.issubset(languages2)) #alt kümesi midir diye soruluyor"
   ]
  },
  {
   "cell_type": "markdown",
   "metadata": {},
   "source": [
    "**isdisjoint()**->İki kümenin ayrık olup olmadığını kontrol eder. Bağımsız mı ortak eleman var mı yok mu onu görürürz."
   ]
  },
  {
   "cell_type": "code",
   "execution_count": 115,
   "metadata": {},
   "outputs": [
    {
     "name": "stdout",
     "output_type": "stream",
     "text": [
      "True\n"
     ]
    }
   ],
   "source": [
    "languages = {\"Python\", \"C#\", \"Java\", \"Kotlin\", \"Dart\"}\n",
    "#languages2 = {\"Kotlin\", \"Java\", \"Flutter\"} böyle olunca false\n",
    "languages2 = {\"Flutter\"} #böyle olunca true\n",
    "#ortak değer varsa False, yoksa ayrık kümelerse True döndürür.\n",
    "print(languages.isdisjoint(languages2))"
   ]
  },
  {
   "cell_type": "markdown",
   "metadata": {},
   "source": [
    "**Frozenset** -> Değişmez bir set oluşturmak istenildiğinde kullanılır."
   ]
  },
  {
   "cell_type": "code",
   "execution_count": 117,
   "metadata": {},
   "outputs": [],
   "source": [
    "frozen_set = frozenset({\"Nihan\", \"Edanur\", \"Buse\", \"Sena\"})"
   ]
  },
  {
   "cell_type": "code",
   "execution_count": 119,
   "metadata": {},
   "outputs": [
    {
     "ename": "AttributeError",
     "evalue": "'frozenset' object has no attribute 'add'",
     "output_type": "error",
     "traceback": [
      "\u001b[1;31m---------------------------------------------------------------------------\u001b[0m",
      "\u001b[1;31mAttributeError\u001b[0m                            Traceback (most recent call last)",
      "\u001b[1;32mc:\\Users\\Rüveyda\\OneDrive\\Masaüstü\\sisterslab\\python-ders\\6-veriyapilari-set.ipynb Hücre 58\u001b[0m in \u001b[0;36m<cell line: 1>\u001b[1;34m()\u001b[0m\n\u001b[1;32m----> <a href='vscode-notebook-cell:/c%3A/Users/R%C3%BCveyda/OneDrive/Masa%C3%BCst%C3%BC/sisterslab/python-ders/6-veriyapilari-set.ipynb#Y113sZmlsZQ%3D%3D?line=0'>1</a>\u001b[0m frozen_set\u001b[39m.\u001b[39;49madd(\u001b[39m6\u001b[39m)\n",
      "\u001b[1;31mAttributeError\u001b[0m: 'frozenset' object has no attribute 'add'"
     ]
    }
   ],
   "source": [
    "frozen_set.add(6) #değer ekleyemeyeceğimizi göstererek hata alırız."
   ]
  },
  {
   "cell_type": "code",
   "execution_count": 120,
   "metadata": {},
   "outputs": [
    {
     "name": "stdout",
     "output_type": "stream",
     "text": [
      "{10, 80, 20, 60, 30}\n"
     ]
    }
   ],
   "source": [
    "#İki set içerisinde yer alan benzersiz elemanları ekrana basalım.\n",
    "\n",
    "my_set1 = {10,20,30,40,50}\n",
    "my_Set2  = {40,50,60,80}\n",
    "\n",
    "print(my_set1.symmetric_difference(my_Set2))"
   ]
  },
  {
   "cell_type": "code",
   "execution_count": 126,
   "metadata": {},
   "outputs": [
    {
     "data": {
      "text/plain": [
       "{0, 1, 2, 3, 4, 7, 9}"
      ]
     },
     "execution_count": 126,
     "metadata": {},
     "output_type": "execute_result"
    }
   ],
   "source": [
    "#Bir listenin tüm elemanlarını bir sete ekleme işlemini yapalım.\n",
    "\n",
    "my_list = [1,2,3,4]\n",
    "my_set = {1,4,7,9,0}\n",
    "\n",
    "my_set.update(my_list)\n",
    "my_set"
   ]
  },
  {
   "cell_type": "code",
   "execution_count": 138,
   "metadata": {},
   "outputs": [
    {
     "data": {
      "text/plain": [
       "{1, 3, 5, 7, 9}"
      ]
     },
     "execution_count": 138,
     "metadata": {},
     "output_type": "execute_result"
    }
   ],
   "source": [
    "#Bir set içerisinde yer alan çift sayıları sil\n",
    "\n",
    "my_set = {1, 2, 3, 4, 5, 6, 7, 8, 9, 10}\n",
    "\n",
    "my_list = [i for i in my_set if i %2 ==0]\n",
    "# my_list = []\n",
    "#for item in my_set:\n",
    "#   if item %2==0:\n",
    "#      my_list.append(item)\n",
    "        \n",
    "for i in my_list:\n",
    "    my_set.remove(i)\n",
    "\n",
    "my_set"
   ]
  },
  {
   "cell_type": "code",
   "execution_count": 137,
   "metadata": {},
   "outputs": [
    {
     "data": {
      "text/plain": [
       "[2, 4, 6, 8, 10]"
      ]
     },
     "execution_count": 137,
     "metadata": {},
     "output_type": "execute_result"
    }
   ],
   "source": [
    "#list comprehension yöntemiyle\n",
    "my_set = {1, 2, 3, 4, 5, 6, 7, 8, 9, 10}\n",
    "my_list = [i for i in my_set if i %2 ==0]#Set içerisindeki çift sayıları yazdırdık\n",
    "\n",
    "my_list"
   ]
  }
 ],
 "metadata": {
  "kernelspec": {
   "display_name": "Python 3.10.6 64-bit",
   "language": "python",
   "name": "python3"
  },
  "language_info": {
   "codemirror_mode": {
    "name": "ipython",
    "version": 3
   },
   "file_extension": ".py",
   "mimetype": "text/x-python",
   "name": "python",
   "nbconvert_exporter": "python",
   "pygments_lexer": "ipython3",
   "version": "3.10.6"
  },
  "orig_nbformat": 4,
  "vscode": {
   "interpreter": {
    "hash": "9624578c985f44420bdf532c620c13a9f13c360a52c0692b61f3ec1fa411c6c5"
   }
  }
 },
 "nbformat": 4,
 "nbformat_minor": 2
}
