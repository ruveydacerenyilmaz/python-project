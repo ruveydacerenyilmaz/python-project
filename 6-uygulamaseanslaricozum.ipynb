{
 "cells": [
  {
   "cell_type": "markdown",
   "metadata": {},
   "source": [
    "**Kullanıcının girdiği ad, soyad ve yaş bilgilerini tutan bir dictionary oluşturunuz.**\n",
    "\n",
    "* Kullanıcının ad değerini, büyük harfler ile güncelleyiniz.\n",
    "* Kullanıcının yaş değerine 2 ekleyiniz.\n",
    "* Dictionary'e kullanıcının en sevdiği rengi ekleyiniz key-value şeklinde ekleyiniz.\n",
    "* Kullanıcının adını ve soyadını kapsayan yeni bir key-value ekleyiniz.\n",
    "* Kullanıcının ad değerini dictionary'den kaldırınız."
   ]
  },
  {
   "cell_type": "code",
   "execution_count": 48,
   "metadata": {},
   "outputs": [
    {
     "data": {
      "text/plain": [
       "{'name': 'ceren', 'surname': 'yilmaz', 'age': 22}"
      ]
     },
     "execution_count": 48,
     "metadata": {},
     "output_type": "execute_result"
    }
   ],
   "source": [
    "isim = input(\"İsim giriniz\")\n",
    "soyisim = input(\"Soyisminizi giriniz\")\n",
    "yas = int(input(\"Yaşınızı giriniz.\"))\n",
    "my_dict = {\n",
    "    \"name\":isim,\n",
    "    \"surname\":soyisim,\n",
    "    \"age\":yas\n",
    "}\n",
    "my_dict"
   ]
  },
  {
   "cell_type": "code",
   "execution_count": 49,
   "metadata": {},
   "outputs": [
    {
     "data": {
      "text/plain": [
       "{'name': 'CEREN', 'surname': 'yilmaz', 'age': 22}"
      ]
     },
     "execution_count": 49,
     "metadata": {},
     "output_type": "execute_result"
    }
   ],
   "source": [
    "my_dict[\"name\"] =(my_dict[\"name\"].upper())\n",
    "\n",
    "my_dict"
   ]
  },
  {
   "cell_type": "code",
   "execution_count": 50,
   "metadata": {},
   "outputs": [
    {
     "data": {
      "text/plain": [
       "{'name': 'CEREN', 'surname': 'yilmaz', 'age': 24}"
      ]
     },
     "execution_count": 50,
     "metadata": {},
     "output_type": "execute_result"
    }
   ],
   "source": [
    "my_dict[\"age\"]+=2\n",
    "my_dict"
   ]
  },
  {
   "cell_type": "code",
   "execution_count": 51,
   "metadata": {},
   "outputs": [
    {
     "data": {
      "text/plain": [
       "{'name': 'CEREN', 'surname': 'yilmaz', 'age': 24, 'color': 'mor'}"
      ]
     },
     "execution_count": 51,
     "metadata": {},
     "output_type": "execute_result"
    }
   ],
   "source": [
    "color = input(\"sevdiğiniz rengi giriniz\")\n",
    "my_dict[\"color\"] = color\n",
    "\n",
    "my_dict"
   ]
  },
  {
   "cell_type": "code",
   "execution_count": 52,
   "metadata": {},
   "outputs": [
    {
     "data": {
      "text/plain": [
       "{'name': 'CEREN',\n",
       " 'surname': 'yilmaz',\n",
       " 'age': 24,\n",
       " 'color': 'mor',\n",
       " 'name_surname': 'CEREN yilmaz'}"
      ]
     },
     "execution_count": 52,
     "metadata": {},
     "output_type": "execute_result"
    }
   ],
   "source": [
    "my_dict[\"name_surname\"] = my_dict[\"name\"] + \" \" + my_dict[\"surname\"]\n",
    "\n",
    "my_dict"
   ]
  },
  {
   "cell_type": "code",
   "execution_count": 53,
   "metadata": {},
   "outputs": [
    {
     "data": {
      "text/plain": [
       "{'surname': 'yilmaz',\n",
       " 'age': 24,\n",
       " 'color': 'mor',\n",
       " 'name_surname': 'CEREN yilmaz'}"
      ]
     },
     "execution_count": 53,
     "metadata": {},
     "output_type": "execute_result"
    }
   ],
   "source": [
    "del my_dict[\"name\"]\n",
    "\n",
    "my_dict"
   ]
  },
  {
   "cell_type": "markdown",
   "metadata": {},
   "source": [
    "* Kullanıcının verdiği aralığa göre, key değerleri o anki sayı, value değerleri o anki sayının karesi olan bir dictionary oluşturunuz.\n",
    "\n",
    "* Örnek olarak, kullanıcı aralık olarak 2 ve 7 girmiş olsun. Bizden beklenen dictionary şu şekilde olmalıdır;\n",
    "\n",
    "* {2: 4, 3: 9, 4: 16, 5: 25, 6:36, 7:49}"
   ]
  },
  {
   "cell_type": "code",
   "execution_count": 16,
   "metadata": {},
   "outputs": [
    {
     "data": {
      "text/plain": [
       "{2: 4, 3: 9, 4: 16, 5: 25, 6: 36, 7: 49}"
      ]
     },
     "execution_count": 16,
     "metadata": {},
     "output_type": "execute_result"
    }
   ],
   "source": [
    "start = int(input())\n",
    "end = int(input())\n",
    "dict2 = {} \n",
    "\n",
    "for i in range(start, end+1):\n",
    "    dict2[i] = i*i\n",
    "\n",
    "dict2   "
   ]
  },
  {
   "cell_type": "code",
   "execution_count": 18,
   "metadata": {},
   "outputs": [
    {
     "name": "stdout",
     "output_type": "stream",
     "text": [
      "{2: 4, 3: 9, 4: 16, 5: 25, 6: 36, 7: 49, 8: 64}\n"
     ]
    }
   ],
   "source": [
    "start, end = (input(\"Başlangıç ve bitiş değerlerini arada boşluk bırakarak giriniz: \").split())\n",
    "\n",
    "karesi = {i: i**2 for i in range(int(start), int(end)+1)}\n",
    "print(karesi)\n"
   ]
  },
  {
   "cell_type": "code",
   "execution_count": 23,
   "metadata": {},
   "outputs": [],
   "source": [
    "myUsers = [\n",
    "    {\n",
    "        \"Name\":\"Rosalind\",\n",
    "        \"Surname\": \"Rich\",\n",
    "        \"Age\": 23\n",
    "    }\n",
    "    ,{\n",
    "        \"Name\":\"Annika\",\n",
    "        \"Surname\": \"Keenan\",\n",
    "        \"Age\": 28\n",
    "    }\n",
    "    ,{\n",
    "        \"Name\":\"Emillie\",\n",
    "        \"Surname\": \"Plummer\",\n",
    "        \"Age\": 17\n",
    "    }\n",
    "    ,{\n",
    "        \"Name\":\"Kourtney\",\n",
    "        \"Surname\": \"Pate\",\n",
    "        \"Age\": 30\n",
    "    }\n",
    "    ,{\n",
    "        \"Name\":\"Virgil\",\n",
    "        \"Surname\": \"Solomon\",\n",
    "        \"Age\": 40\n",
    "    }\n",
    "    ,{\n",
    "        \"Name\":\"Bobby\",\n",
    "        \"Surname\": \"Jordan\",\n",
    "        \"Age\":33\n",
    "    }\n",
    "    ,{\n",
    "        \"Name\":\"Alfie\",\n",
    "        \"Surname\":\"James Robson\",\n",
    "        \"Age\": 16\n",
    "    } \n",
    "    ,{\n",
    "        \"Name\":\"Isla\",\n",
    "        \"Surname\":\"Grace Tran\",\n",
    "        \"Age\": 64\n",
    "    } \n",
    "    ,{\n",
    "        \"Name\":\"Arif\",\n",
    "        \"Surname\": \"Rivas\",\n",
    "        \"Age\": 43\n",
    "    }\n",
    "    ,{\n",
    "        \"Name\":\"Zakaria\",\n",
    "        \"Surname\": \"Whitehead\",\n",
    "        \"Age\": 82\n",
    "    }\n",
    "    ,{\n",
    "        \"Name\":\"Casper\",\n",
    "        \"Surname\": \"Velasquez\",\n",
    "        \"Age\": 57\n",
    "    }\n",
    "    ,{\n",
    "        \"Name\":\"Caoimhe\",\n",
    "        \"Surname\": \"Ali\",\n",
    "        \"Age\": 34\n",
    "    }\n",
    "    ,{\n",
    "        \"Name\":\"Viola\",\n",
    "        \"Surname\": \"Shepherd\",\n",
    "        \"Age\": 18\n",
    "    }\n",
    "]"
   ]
  },
  {
   "cell_type": "markdown",
   "metadata": {},
   "source": [
    "Aşağıda verilen liste ile istenilen işlemleri yapınız.\n",
    "\n",
    "* Yaşı 20'den büyük olanları ekrana yazdırınız.\n",
    "* Adı 'A' ile başlayanları ekrana yazdırınız.\n",
    "* Soyadı 'J' ile başlayanları ekrana yazdırınız.\n",
    "* Adı 'C' ile soyadı 'A' ile başlayanları ekrana yazdırınız.\n",
    "* Adının içinde 'A' ahrfi geçenleri ekrana yazdırınız.\n",
    "* Yaşı tek sayı olanları ekrana yazdırınız.\n",
    "* Kullanının yaşını, (kullanıcının yaşı + kullanıcının soyadının uzunluğu) şeklinde güncelleyiniz.\n",
    "* Kullanıcının adını ve soyadını içeren FullName adında yeni bir key-value pair oluşturunuz."
   ]
  },
  {
   "cell_type": "code",
   "execution_count": 35,
   "metadata": {},
   "outputs": [
    {
     "name": "stdout",
     "output_type": "stream",
     "text": [
      "[{'Name': 'Rosalind', 'Surname': 'Rich', 'Age': 23}, {'Name': 'Annika', 'Surname': 'Keenan', 'Age': 28}, {'Name': 'Kourtney', 'Surname': 'Pate', 'Age': 30}, {'Name': 'Virgil', 'Surname': 'Solomon', 'Age': 40}, {'Name': 'Bobby', 'Surname': 'Jordan', 'Age': 33}, {'Name': 'Isla', 'Surname': 'Grace Tran', 'Age': 64}, {'Name': 'Arif', 'Surname': 'Rivas', 'Age': 43}, {'Name': 'Zakaria', 'Surname': 'Whitehead', 'Age': 82}, {'Name': 'Casper', 'Surname': 'Velasquez', 'Age': 57}, {'Name': 'Caoimhe', 'Surname': 'Ali', 'Age': 34}]\n"
     ]
    }
   ],
   "source": [
    "print(list(filter(lambda x: x[\"Age\"] > 20, myUsers)))\n"
   ]
  },
  {
   "cell_type": "code",
   "execution_count": null,
   "metadata": {},
   "outputs": [],
   "source": [
    "print(list(filter(lambda x: x[\"name\"] > 20, myUsers)))\n"
   ]
  },
  {
   "cell_type": "markdown",
   "metadata": {},
   "source": [
    "**Kullanıcının girdiği string içerisindeki unique karakterleri ekrana yazdırınız.**"
   ]
  },
  {
   "cell_type": "code",
   "execution_count": 20,
   "metadata": {},
   "outputs": [
    {
     "name": "stdout",
     "output_type": "stream",
     "text": [
      "{'c', 'e', 'ü', 'l', 'm'}\n"
     ]
    }
   ],
   "source": [
    "str = input()\n",
    "print(set(str))\n"
   ]
  },
  {
   "cell_type": "markdown",
   "metadata": {},
   "source": [
    "Verilen iki set için aşağıdaki işlemleri yapınız;\n",
    "\n",
    "* İki set arasındaki farkı ekrana yazdırınız.\n",
    "* İki set içerisinde ortak olanları ekrana yazdırınız.\n",
    "* İki seti birleştirip ekrana yazdırınız.\n",
    "* İlk set içerisinde olmayıp ikinci set içerisinde olan değerleri ekrana yazdırınız.\n",
    "* İkinci set içerisinde olmayıp ilk set içerisinde olan değerleri ekrana yazdırınız.\n",
    "\n",
    "set1 = {True, False, 1, 2, 3, 4, 's', 'i', 's', 't', 'e'}\n",
    "\n",
    "set2 = {'r', 's', 'l', 'a', 'b', None, 6, 7, 8, 9}"
   ]
  },
  {
   "cell_type": "code",
   "execution_count": null,
   "metadata": {},
   "outputs": [],
   "source": []
  },
  {
   "cell_type": "markdown",
   "metadata": {},
   "source": [
    "Kullanıcıdan alınan string ifadedeki karakterlerin kaç kere tekrar ettiğini tutan bir dictionary oluşturunuz.\n",
    "\n",
    "sisterslab için örnek çıktı şu şekilde olmalıdır\n",
    "\n",
    "{'s': 3, 'r': 1, 'e': 1, 'l': 1, 'b': 1, 't': 1, 'a': 1, 'i': 1}"
   ]
  },
  {
   "cell_type": "code",
   "execution_count": null,
   "metadata": {},
   "outputs": [],
   "source": []
  },
  {
   "cell_type": "markdown",
   "metadata": {},
   "source": [
    "**Dosya Uygulama Seansları**"
   ]
  },
  {
   "cell_type": "code",
   "execution_count": null,
   "metadata": {},
   "outputs": [],
   "source": [
    "with open(\"files/example.txt\",'a') as exampleFile:\n",
    "    exampleFile.write(\"Sohbet Seansi \\n\")\n",
    "    exampleFile.write(\"Sohbet Seansi \\n\")\n",
    "    exampleFile.write(\"Sohbet Seansi \\n\")\n",
    "\n",
    "with open(\"files/example.txt\",'r') as exampleFile:\n",
    "    print(exampleFile.read())\n",
    "\n",
    "with open(\"files/example.txt\",'w') as exampleFile:\n",
    "    exampleFile.write(\"Sohbet Seansi \\n\")\n",
    "\n",
    "with open(\"files/example.txt\",'r') as exampleFile:\n",
    "    print(exampleFile.read())\n"
   ]
  },
  {
   "cell_type": "code",
   "execution_count": null,
   "metadata": {},
   "outputs": [],
   "source": [
    "name, surname = input('Your name: '), input('Your surname: ')\n",
    "\n",
    "with open(\"files/example.txt\",'a') as exampleFile:\n",
    "    exampleFile.write(f'User Name: {name} \\nUser Surname: {surname}')\n"
   ]
  },
  {
   "cell_type": "code",
   "execution_count": null,
   "metadata": {},
   "outputs": [],
   "source": [
    "N = 5\n",
    "with open(\"example.txt\") as f:\n",
    "    lines = [f.readline() for x in range(N)] \n",
    "print(lines)\n",
    "with open(\"example.txt\") as f:\n",
    "    firstNlines=f.readlines()[0:5]\n",
    "print(firstNlines)\n"
   ]
  }
 ],
 "metadata": {
  "kernelspec": {
   "display_name": "Python 3.10.6 64-bit",
   "language": "python",
   "name": "python3"
  },
  "language_info": {
   "codemirror_mode": {
    "name": "ipython",
    "version": 3
   },
   "file_extension": ".py",
   "mimetype": "text/x-python",
   "name": "python",
   "nbconvert_exporter": "python",
   "pygments_lexer": "ipython3",
   "version": "3.10.6"
  },
  "orig_nbformat": 4,
  "vscode": {
   "interpreter": {
    "hash": "9624578c985f44420bdf532c620c13a9f13c360a52c0692b61f3ec1fa411c6c5"
   }
  }
 },
 "nbformat": 4,
 "nbformat_minor": 2
}
