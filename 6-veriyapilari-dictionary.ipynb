{
 "cells": [
  {
   "cell_type": "markdown",
   "metadata": {},
   "source": [
    "**Dictionary**\n",
    "\n",
    "* indexle erişilemezler. Unordered yani sıralı değildir. \n",
    "* key-value mantığında tutar. Değerlere key üzerinden erişiriz.\n",
    "* Dict. değiştirilebilir yani mutable'dır. Eleman ekleme-çıkarma işlemi yapılabilir.\n",
    "* {} içerisinde tanımlanır. key-value çiftini virgüllerle ayrılır.\n",
    "* Farklı tipte veriler içerebilir.\n",
    "* key değerleri unique olacak ama taşıdıkları değerler duplicate olabilir."
   ]
  },
  {
   "cell_type": "markdown",
   "metadata": {},
   "source": [
    "**Dictionary Oluşturma Yöntemleri**\n",
    "\n",
    "* {} ile boş bir sözlük oluşturulur.\n",
    "* 'dict' ile de oluşturulabilir."
   ]
  },
  {
   "cell_type": "code",
   "execution_count": 4,
   "metadata": {},
   "outputs": [
    {
     "data": {
      "text/plain": [
       "{'name': 'Büşranur',\n",
       " 'company': 'Turkcell',\n",
       " 'age': 25,\n",
       " 'isFemale': True,\n",
       " 'salary': 10000.5}"
      ]
     },
     "execution_count": 4,
     "metadata": {},
     "output_type": "execute_result"
    }
   ],
   "source": [
    "my_dict = {\n",
    "    \"name\":\"Büşranur\",\n",
    "    \"company\":\"Turkcell\", \n",
    "    \"age\":25,\n",
    "    \"isFemale\":True,\n",
    "    \"salary\":10000.50\n",
    "    }\n",
    "\n",
    "my_dict"
   ]
  },
  {
   "cell_type": "code",
   "execution_count": 7,
   "metadata": {},
   "outputs": [
    {
     "data": {
      "text/plain": [
       "{'first_name': 'Ruveyda Ceren',\n",
       " 'last_name': 'Yılmaz',\n",
       " 'from': 'Turkey',\n",
       " 'age': 28,\n",
       " 'isFemale': True,\n",
       " 61.5: 'Trabzon'}"
      ]
     },
     "execution_count": 7,
     "metadata": {},
     "output_type": "execute_result"
    }
   ],
   "source": [
    "my_dict = {\"first_name\": \"Ruveyda Ceren\", \"last_name\": \"Yılmaz\", \"from\": \"Turkey\", \"age\": 28, \"isFemale\": True, 61.5 : \"Trabzon\"}\n",
    "my_dict\n"
   ]
  },
  {
   "cell_type": "code",
   "execution_count": 9,
   "metadata": {},
   "outputs": [
    {
     "data": {
      "text/plain": [
       "{'name': 'Büşranur',\n",
       " 'company': 'Turkcell',\n",
       " 'title': ('AI&ML Engineer', 'Data Scientist', 'Backend Developer'),\n",
       " 'age': 25,\n",
       " 'isFemale': True,\n",
       " 'salary': 10000.5}"
      ]
     },
     "execution_count": 9,
     "metadata": {},
     "output_type": "execute_result"
    }
   ],
   "source": [
    "my_dict = {\n",
    "    \"name\":\"Büşranur\",\n",
    "    \"company\":\"Turkcell\",\n",
    "    \"title\":[\"AI&ML Engineer\",\"Data Scientist\",\"Backend Developer\"], \n",
    "    \"age\":25,\n",
    "    \"isFemale\":True,\n",
    "    \"salary\":10000.50\n",
    "    }\n",
    "\n",
    "my_dict"
   ]
  },
  {
   "cell_type": "code",
   "execution_count": 8,
   "metadata": {},
   "outputs": [
    {
     "name": "stdout",
     "output_type": "stream",
     "text": [
      "{'first_name': 'Rüveyda Ceren', 'last_name': 'Yılmaz'}\n"
     ]
    }
   ],
   "source": [
    "my_dict = dict({\"first_name\":\"Rüveyda Ceren\", \"last_name\":\"Yılmaz\"})\n",
    "\n",
    "my_dict"
   ]
  },
  {
   "cell_type": "code",
   "execution_count": 4,
   "metadata": {},
   "outputs": [],
   "source": [
    "mydict = {}"
   ]
  },
  {
   "cell_type": "code",
   "execution_count": 5,
   "metadata": {},
   "outputs": [
    {
     "name": "stdout",
     "output_type": "stream",
     "text": [
      "<class 'dict'>\n"
     ]
    }
   ],
   "source": [
    "print(type(my_dict))"
   ]
  },
  {
   "cell_type": "markdown",
   "metadata": {},
   "source": [
    "**Sözlük Elemanlarına Erişim**\n",
    "\n",
    "* [ ] içinde key değerini vererek\n",
    "* get() içinde key değerini vererek"
   ]
  },
  {
   "cell_type": "code",
   "execution_count": 11,
   "metadata": {},
   "outputs": [
    {
     "data": {
      "text/plain": [
       "{'blue': 'mavi',\n",
       " 'red': 'kırmızı',\n",
       " 'yellow': 'sarı',\n",
       " 'pink': 'pembe',\n",
       " 'green': 'yeşil'}"
      ]
     },
     "execution_count": 11,
     "metadata": {},
     "output_type": "execute_result"
    }
   ],
   "source": [
    "colors = {\n",
    "    \"blue\":\"mavi\",\n",
    "    \"red\":\"kırmızı\",\n",
    "    \"yellow\":\"sarı\",\n",
    "    \"pink\":\"pembe\",\n",
    "    \"green\":\"yeşil\"\n",
    "}\n",
    "\n",
    "colors"
   ]
  },
  {
   "cell_type": "code",
   "execution_count": 12,
   "metadata": {},
   "outputs": [
    {
     "data": {
      "text/plain": [
       "'pembe'"
      ]
     },
     "execution_count": 12,
     "metadata": {},
     "output_type": "execute_result"
    }
   ],
   "source": [
    "colors[\"pink\"]"
   ]
  },
  {
   "cell_type": "code",
   "execution_count": 13,
   "metadata": {},
   "outputs": [
    {
     "data": {
      "text/plain": [
       "'mavi'"
      ]
     },
     "execution_count": 13,
     "metadata": {},
     "output_type": "execute_result"
    }
   ],
   "source": [
    "colors.get(\"blue\")"
   ]
  },
  {
   "cell_type": "code",
   "execution_count": 15,
   "metadata": {},
   "outputs": [
    {
     "data": {
      "text/plain": [
       "dict_keys(['blue', 'red', 'yellow', 'pink', 'green'])"
      ]
     },
     "execution_count": 15,
     "metadata": {},
     "output_type": "execute_result"
    }
   ],
   "source": [
    "#sözlükte yer alan tüm key değerlerine erişim\n",
    "colors.keys()"
   ]
  },
  {
   "cell_type": "code",
   "execution_count": 17,
   "metadata": {},
   "outputs": [
    {
     "data": {
      "text/plain": [
       "dict_values(['mavi', 'kırmızı', 'sarı', 'pembe', 'yeşil'])"
      ]
     },
     "execution_count": 17,
     "metadata": {},
     "output_type": "execute_result"
    }
   ],
   "source": [
    "#sözlükte yer alan tüm values değerlerine erişim\n",
    "colors.values()"
   ]
  },
  {
   "cell_type": "code",
   "execution_count": 19,
   "metadata": {},
   "outputs": [
    {
     "data": {
      "text/plain": [
       "dict_items([('blue', 'mavi'), ('red', 'kırmızı'), ('yellow', 'sarı'), ('pink', 'pembe'), ('green', 'yeşil')])"
      ]
     },
     "execution_count": 19,
     "metadata": {},
     "output_type": "execute_result"
    }
   ],
   "source": [
    "#keyvalue çiftine erişmek istersek\n",
    "colors.items() #->tuple şeklinde ikili verecektir"
   ]
  },
  {
   "cell_type": "markdown",
   "metadata": {},
   "source": [
    "**Döngü ile erişim**"
   ]
  },
  {
   "cell_type": "code",
   "execution_count": 21,
   "metadata": {},
   "outputs": [
    {
     "name": "stdout",
     "output_type": "stream",
     "text": [
      "blue\n",
      "red\n",
      "yellow\n",
      "pink\n",
      "green\n"
     ]
    }
   ],
   "source": [
    "colors = {\n",
    "    \"blue\":\"mavi\",\n",
    "    \"red\":\"kırmızı\",\n",
    "    \"yellow\":\"sarı\",\n",
    "    \"pink\":\"pembe\",\n",
    "    \"green\":\"yeşil\"\n",
    "}\n",
    "#key değerlerine erişmek\n",
    "for i in colors.keys(): \n",
    "    print(i)"
   ]
  },
  {
   "cell_type": "code",
   "execution_count": 22,
   "metadata": {},
   "outputs": [
    {
     "name": "stdout",
     "output_type": "stream",
     "text": [
      "mavi\n",
      "kırmızı\n",
      "sarı\n",
      "pembe\n",
      "yeşil\n"
     ]
    }
   ],
   "source": [
    "for i in colors.values(): #value değerlerine erişmek\n",
    "    print(i)"
   ]
  },
  {
   "cell_type": "code",
   "execution_count": 23,
   "metadata": {},
   "outputs": [
    {
     "name": "stdout",
     "output_type": "stream",
     "text": [
      "('blue', 'mavi')\n",
      "('red', 'kırmızı')\n",
      "('yellow', 'sarı')\n",
      "('pink', 'pembe')\n",
      "('green', 'yeşil')\n"
     ]
    }
   ],
   "source": [
    "for i in colors.items(): #ikili tuplelar şeklinde verir.\n",
    "    print(i)"
   ]
  },
  {
   "cell_type": "code",
   "execution_count": 25,
   "metadata": {},
   "outputs": [
    {
     "name": "stdout",
     "output_type": "stream",
     "text": [
      "key: blue --- value: mavi\n",
      "key: red --- value: kırmızı\n",
      "key: yellow --- value: sarı\n",
      "key: pink --- value: pembe\n",
      "key: green --- value: yeşil\n"
     ]
    }
   ],
   "source": [
    "for i in colors.items():\n",
    "    print(f\"key: {i[0]} --- value: {i[1]}\")"
   ]
  },
  {
   "cell_type": "code",
   "execution_count": 27,
   "metadata": {},
   "outputs": [
    {
     "name": "stdout",
     "output_type": "stream",
     "text": [
      "Sözlüğün uzunluğu:  5\n"
     ]
    }
   ],
   "source": [
    "print(\"Sözlüğün uzunluğu: \", len(colors)) #key-value çifti sayısı"
   ]
  },
  {
   "cell_type": "markdown",
   "metadata": {},
   "source": [
    "**Sözlüğe Eleman Ekleme**\n",
    "\n",
    "* key-value atama işlemi ile (eğer key yoksa yeni key-value atama, varsa value değerini değiştirme.)\n",
    "* update metodu ile"
   ]
  },
  {
   "cell_type": "code",
   "execution_count": 34,
   "metadata": {},
   "outputs": [
    {
     "data": {
      "text/plain": [
       "{1990: 'Friends',\n",
       " 1991: 'Person of Interest',\n",
       " 1992: 'Heartland',\n",
       " 1993: 'Doctor Who',\n",
       " 1994: 'Merlin'}"
      ]
     },
     "execution_count": 34,
     "metadata": {},
     "output_type": "execute_result"
    }
   ],
   "source": [
    "movies  = {\n",
    "    1990:\"Friends\",\n",
    "    1991:\"Person of Interest\",\n",
    "    1992:\"Heartland\",\n",
    "    1993:\"Doctor Who\",\n",
    "    1994:\"Merlin\"\n",
    "}\n",
    "\n",
    "movies"
   ]
  },
  {
   "cell_type": "code",
   "execution_count": 35,
   "metadata": {},
   "outputs": [
    {
     "data": {
      "text/plain": [
       "{1990: 'Friends',\n",
       " 1991: 'Person of Interest',\n",
       " 1992: 'Heartland',\n",
       " 1993: 'Doctor Who',\n",
       " 1994: 'Merlin',\n",
       " 1995: 'Harry Potter'}"
      ]
     },
     "execution_count": 35,
     "metadata": {},
     "output_type": "execute_result"
    }
   ],
   "source": [
    "movies[1995] = \"Harry Potter\"\n",
    "#yeni bir key-value ekleme\n",
    "movies"
   ]
  },
  {
   "cell_type": "code",
   "execution_count": 36,
   "metadata": {},
   "outputs": [
    {
     "data": {
      "text/plain": [
       "{1990: 'Friends',\n",
       " 1991: 'Person of Interest',\n",
       " 1992: 'Heartland',\n",
       " 1993: 'Doctor Who',\n",
       " 1994: 'The Big Bang Theory',\n",
       " 1995: 'Harry Potter'}"
      ]
     },
     "execution_count": 36,
     "metadata": {},
     "output_type": "execute_result"
    }
   ],
   "source": [
    "movies[1994] = \"The Big Bang Theory\"\n",
    "#var olan keyin valuesini değiştirme\n",
    "movies"
   ]
  },
  {
   "cell_type": "code",
   "execution_count": 80,
   "metadata": {},
   "outputs": [
    {
     "data": {
      "text/plain": [
       "{1990: 'Friends',\n",
       " 1991: 'Person of Interest',\n",
       " 1992: 'Heartland',\n",
       " 1993: 'The Quenn Gambit',\n",
       " 1994: 'The Big Bang Theory',\n",
       " 1995: 'Harry Potter',\n",
       " 1996: 'Squid Game'}"
      ]
     },
     "execution_count": 80,
     "metadata": {},
     "output_type": "execute_result"
    }
   ],
   "source": [
    "movies.update({1996:\"Squid Game\", 1993:\"The Quenn Gambit\"})\n",
    "#birden fazla şeyi anda yapar\n",
    "# key-value dictte yoksa yeni ekleme, varsa değeri değiştirme\n",
    "movies"
   ]
  },
  {
   "cell_type": "markdown",
   "metadata": {},
   "source": [
    "**Silme İşlemleri**\n",
    "\n",
    "* del key : mevcuttaki key value değerini siler sadece\n",
    "* celar() : içini temizler\n",
    "* del dict_name: mevcuttaki dicti siler\n",
    "* popitem() -> son eklenen değeri siler\n",
    "* pop() -> spesifik yani istenilen değeri siler"
   ]
  },
  {
   "cell_type": "code",
   "execution_count": 40,
   "metadata": {},
   "outputs": [
    {
     "data": {
      "text/plain": [
       "{'name': 'İrem', 'tc': 21432151, 'start_date': 2019, 'title': 'AI&ML Engineer'}"
      ]
     },
     "execution_count": 40,
     "metadata": {},
     "output_type": "execute_result"
    }
   ],
   "source": [
    "#del key \n",
    "personel_info = {\n",
    "    \"name\":\"İrem\",\n",
    "    \"tc\" :21432151,\n",
    "    \"start_date\":2019,\n",
    "    \"title\":\"AI&ML Engineer\"\n",
    "}\n",
    "\n",
    "personel_info"
   ]
  },
  {
   "cell_type": "code",
   "execution_count": 41,
   "metadata": {},
   "outputs": [
    {
     "data": {
      "text/plain": [
       "{'name': 'İrem', 'tc': 21432151, 'title': 'AI&ML Engineer'}"
      ]
     },
     "execution_count": 41,
     "metadata": {},
     "output_type": "execute_result"
    }
   ],
   "source": [
    "del personel_info[\"start_date\"]\n",
    "\n",
    "personel_info"
   ]
  },
  {
   "cell_type": "code",
   "execution_count": 44,
   "metadata": {},
   "outputs": [
    {
     "data": {
      "text/plain": [
       "{}"
      ]
     },
     "execution_count": 44,
     "metadata": {},
     "output_type": "execute_result"
    }
   ],
   "source": [
    "#clear() \n",
    "personel_info.clear()\n",
    "\n",
    "personel_info"
   ]
  },
  {
   "cell_type": "code",
   "execution_count": 45,
   "metadata": {},
   "outputs": [
    {
     "ename": "NameError",
     "evalue": "name 'personel_info' is not defined",
     "output_type": "error",
     "traceback": [
      "\u001b[1;31m---------------------------------------------------------------------------\u001b[0m",
      "\u001b[1;31mNameError\u001b[0m                                 Traceback (most recent call last)",
      "\u001b[1;32mc:\\Users\\Rüveyda\\OneDrive\\Masaüstü\\sisterslab\\python-ders\\6-veriyapilari-dictionary.ipynb Hücre 29\u001b[0m in \u001b[0;36m<cell line: 4>\u001b[1;34m()\u001b[0m\n\u001b[0;32m      <a href='vscode-notebook-cell:/c%3A/Users/R%C3%BCveyda/OneDrive/Masa%C3%BCst%C3%BC/sisterslab/python-ders/6-veriyapilari-dictionary.ipynb#X41sZmlsZQ%3D%3D?line=0'>1</a>\u001b[0m \u001b[39m#del dict_name yöntemi her şeyi siler\u001b[39;00m\n\u001b[0;32m      <a href='vscode-notebook-cell:/c%3A/Users/R%C3%BCveyda/OneDrive/Masa%C3%BCst%C3%BC/sisterslab/python-ders/6-veriyapilari-dictionary.ipynb#X41sZmlsZQ%3D%3D?line=1'>2</a>\u001b[0m \u001b[39mdel\u001b[39;00m personel_info\n\u001b[1;32m----> <a href='vscode-notebook-cell:/c%3A/Users/R%C3%BCveyda/OneDrive/Masa%C3%BCst%C3%BC/sisterslab/python-ders/6-veriyapilari-dictionary.ipynb#X41sZmlsZQ%3D%3D?line=3'>4</a>\u001b[0m personel_info\n",
      "\u001b[1;31mNameError\u001b[0m: name 'personel_info' is not defined"
     ]
    }
   ],
   "source": [
    "#del dict_name yöntemi her şeyi siler\n",
    "del personel_info\n",
    "\n",
    "personel_info"
   ]
  },
  {
   "cell_type": "code",
   "execution_count": 60,
   "metadata": {},
   "outputs": [
    {
     "data": {
      "text/plain": [
       "{'name': 'İrem', 'tc': 21432151, 'start_date': 2019, 'title': 'AI&ML Engineer'}"
      ]
     },
     "execution_count": 60,
     "metadata": {},
     "output_type": "execute_result"
    }
   ],
   "source": [
    "#popitem() -> Sözlüğe son eklenen elemanı kaldırır.\n",
    "personel_info = {\n",
    "    \"name\":\"İrem\",\n",
    "    \"tc\" :21432151,\n",
    "    \"start_date\":2019,\n",
    "    \"title\":\"AI&ML Engineer\"\n",
    "}\n",
    "\n",
    "personel_info"
   ]
  },
  {
   "cell_type": "code",
   "execution_count": 61,
   "metadata": {},
   "outputs": [
    {
     "data": {
      "text/plain": [
       "{'name': 'İrem', 'tc': 21432151, 'start_date': 2019}"
      ]
     },
     "execution_count": 61,
     "metadata": {},
     "output_type": "execute_result"
    }
   ],
   "source": [
    "personel_info.popitem()\n",
    "#boş bir sözlükten silme işlemi yapılırsa hata verir.\n",
    "personel_info"
   ]
  },
  {
   "cell_type": "code",
   "execution_count": 62,
   "metadata": {},
   "outputs": [
    {
     "data": {
      "text/plain": [
       "{'name': 'İrem', 'start_date': 2019}"
      ]
     },
     "execution_count": 62,
     "metadata": {},
     "output_type": "execute_result"
    }
   ],
   "source": [
    "#pop işlemi veriilen key değerini siler.\n",
    "personel_info.pop(\"tc\")\n",
    "\n",
    "personel_info"
   ]
  },
  {
   "cell_type": "code",
   "execution_count": 63,
   "metadata": {},
   "outputs": [
    {
     "ename": "KeyError",
     "evalue": "'tc'",
     "output_type": "error",
     "traceback": [
      "\u001b[1;31m---------------------------------------------------------------------------\u001b[0m",
      "\u001b[1;31mKeyError\u001b[0m                                  Traceback (most recent call last)",
      "\u001b[1;32mc:\\Users\\Rüveyda\\OneDrive\\Masaüstü\\sisterslab\\python-ders\\6-veriyapilari-dictionary.ipynb Hücre 33\u001b[0m in \u001b[0;36m<cell line: 1>\u001b[1;34m()\u001b[0m\n\u001b[1;32m----> <a href='vscode-notebook-cell:/c%3A/Users/R%C3%BCveyda/OneDrive/Masa%C3%BCst%C3%BC/sisterslab/python-ders/6-veriyapilari-dictionary.ipynb#X45sZmlsZQ%3D%3D?line=0'>1</a>\u001b[0m personel_info\u001b[39m.\u001b[39;49mpop(\u001b[39m\"\u001b[39;49m\u001b[39mtc\u001b[39;49m\u001b[39m\"\u001b[39;49m) \u001b[39m#sözlükte olmayan değeri silince hata verir\u001b[39;00m\n\u001b[0;32m      <a href='vscode-notebook-cell:/c%3A/Users/R%C3%BCveyda/OneDrive/Masa%C3%BCst%C3%BC/sisterslab/python-ders/6-veriyapilari-dictionary.ipynb#X45sZmlsZQ%3D%3D?line=1'>2</a>\u001b[0m personel_info\n",
      "\u001b[1;31mKeyError\u001b[0m: 'tc'"
     ]
    }
   ],
   "source": [
    "personel_info.pop(\"tc\") #sözlükte olmayan değeri silince hata verir\n",
    "personel_info"
   ]
  },
  {
   "cell_type": "markdown",
   "metadata": {},
   "source": [
    "**Bir anahtarın varlığını kontrol etme**"
   ]
  },
  {
   "cell_type": "code",
   "execution_count": 64,
   "metadata": {},
   "outputs": [
    {
     "data": {
      "text/plain": [
       "{'Adana': 1,\n",
       " 'Antalya': 7,\n",
       " 'Kayseri': 38,\n",
       " 'İzmir': 35,\n",
       " 'Giresun': 28,\n",
       " 'İstanbul': 34}"
      ]
     },
     "execution_count": 64,
     "metadata": {},
     "output_type": "execute_result"
    }
   ],
   "source": [
    "cities = {\"Adana\":1, \"Antalya\":7, \"Kayseri\":38, \"İzmir\":35, \"Giresun\":28}\n",
    "\n",
    "if \"İstanbul\" not in cities.keys():\n",
    "    cities[\"İstanbul\"] = 34\n",
    "\n",
    "cities"
   ]
  },
  {
   "cell_type": "markdown",
   "metadata": {},
   "source": [
    "**İki sözlüğü birleştirme**\n",
    "\n",
    "* update\n",
    "* **ile"
   ]
  },
  {
   "cell_type": "code",
   "execution_count": 69,
   "metadata": {},
   "outputs": [
    {
     "name": "stdout",
     "output_type": "stream",
     "text": [
      "{'Adana': 1, 'Antalya': 7, 'Kayseri': 38, 'İzmir': 35, 'Giresun': 28, 'Manisa': 45, 'Van': 65}\n",
      "{'Manisa': 45, 'Van': 65}\n"
     ]
    }
   ],
   "source": [
    "#update()\n",
    "cities = {\"Adana\":1, \"Antalya\":7, \"Kayseri\":38, \"İzmir\":35, \"Giresun\":28}\n",
    "cities2 = {\"Manisa\":45, \"Van\":65}\n",
    "\n",
    "cities.update(cities2)#ilk sözlüğe ekleyerek güncelledi\n",
    "print(cities)\n",
    "print(cities2)"
   ]
  },
  {
   "cell_type": "code",
   "execution_count": 75,
   "metadata": {},
   "outputs": [
    {
     "name": "stdout",
     "output_type": "stream",
     "text": [
      "{'Adana': 1, 'Antalya': 7, 'Kayseri': 38, 'İzmir': 35, 'Giresun': 28, 'Manisa': 45, 'Van': 65}\n"
     ]
    }
   ],
   "source": [
    "# ** ile\n",
    "cities = {\"Adana\":1, \"Antalya\":7, \"Kayseri\":38, \"İzmir\":35, \"Giresun\":28}\n",
    "cities2 = {\"Manisa\":45, \"Van\":65}\n",
    "\n",
    "new_cities = {**cities, **cities2}\n",
    "print(new_cities)"
   ]
  },
  {
   "cell_type": "code",
   "execution_count": 79,
   "metadata": {},
   "outputs": [
    {
     "name": "stdout",
     "output_type": "stream",
     "text": [
      "{'Adana': 1, 'Antalya': 7, 'Kayseri': 38, 'İzmir': 35, 'Giresun': 28, 'Manisa': 45, 'Van': 65}\n"
     ]
    }
   ],
   "source": [
    "#her iki sözlükte aynı key değeri yer aldığında son dictionary içindeki \n",
    "#key değerinin değeri yeni eklenen aynı key değerindeki valuesini alır.\n",
    "cities = {\"Adana\":2, \"Antalya\":7, \"Kayseri\":38, \"İzmir\":35, \"Giresun\":28}\n",
    "cities2 = {\"Manisa\":45, \"Van\":65, \"Adana\":1}\n",
    "\n",
    "new_cities = {**cities, **cities2}\n",
    "print(new_cities)"
   ]
  },
  {
   "cell_type": "markdown",
   "metadata": {},
   "source": [
    "**Dictionary Kopyalama İşlemleri**\n",
    "\n",
    "* copy()\n",
    "* dict()\n",
    "* = operatorü"
   ]
  },
  {
   "cell_type": "code",
   "execution_count": 88,
   "metadata": {},
   "outputs": [],
   "source": [
    "sports = {\n",
    "    1: \"Voleybol\",\n",
    "    2: \"Basketbol\",\n",
    "    3: \"Tenis\",\n",
    "    4: \"Yüzme\",\n",
    "    5: \"Futbol\"\n",
    "} #dict() ve copy() ile yapılanlarla her iki liste etkilenmiyor,\n",
    "# atama operatörü ile yapınca ikiside etklieniyor."
   ]
  },
  {
   "cell_type": "code",
   "execution_count": 86,
   "metadata": {},
   "outputs": [
    {
     "name": "stdout",
     "output_type": "stream",
     "text": [
      "{1: 'Voleybol', 2: 'Basketbol', 3: 'Tenis', 4: 'Yüzme', 5: 'Futbol', 6: 'Oryantiring'}\n",
      "{1: 'Voleybol', 2: 'Basketbol', 3: 'Tenis', 4: 'Yüzme', 5: 'Futbol'}\n"
     ]
    }
   ],
   "source": [
    "#copy() ile\n",
    "copy_sports = sports.copy()\n",
    "\n",
    "copy_sports[6] = \"Oryantiring\"\n",
    "print(copy_sports)\n",
    "print(sports)"
   ]
  },
  {
   "cell_type": "code",
   "execution_count": 87,
   "metadata": {},
   "outputs": [
    {
     "name": "stdout",
     "output_type": "stream",
     "text": [
      "{1: 'Voleybol', 2: 'Basketbol', 3: 'Tenis', 4: 'Yüzme', 5: 'Futbol', 6: 'Oryantiring'}\n",
      "{1: 'Voleybol', 2: 'Basketbol', 3: 'Tenis', 4: 'Yüzme', 5: 'Futbol', 6: 'Oryantiring'}\n"
     ]
    }
   ],
   "source": [
    "# = operatörü ile\n",
    "new_sports = sports\n",
    "\n",
    "new_sports[6] = \"Oryantiring\"\n",
    "print(new_sports)\n",
    "print(sports)"
   ]
  },
  {
   "cell_type": "code",
   "execution_count": 89,
   "metadata": {},
   "outputs": [
    {
     "name": "stdout",
     "output_type": "stream",
     "text": [
      "{1: 'Voleybol', 2: 'Basketbol', 3: 'Tenis', 4: 'Yüzme', 5: 'Futbol', 6: 'Oryantiring'}\n",
      "{1: 'Voleybol', 2: 'Basketbol', 3: 'Tenis', 4: 'Yüzme', 5: 'Futbol'}\n"
     ]
    }
   ],
   "source": [
    "#dict() ile, listeyi birleştirirken zip\n",
    "dict_sports = dict(sports)\n",
    "dict_sports[6] = \"Oryantiring\"\n",
    "\n",
    "print(dict_sports)\n",
    "print(sports)"
   ]
  },
  {
   "cell_type": "markdown",
   "metadata": {},
   "source": [
    "**İç İçe Sözlükler**\n",
    "\n"
   ]
  },
  {
   "cell_type": "code",
   "execution_count": 94,
   "metadata": {},
   "outputs": [
    {
     "data": {
      "text/plain": [
       "{'name': 'Örnek',\n",
       " 'GSM': '05123456789',\n",
       " 'email': 'merhabadunya@python.co',\n",
       " 'adres': {'istanbul': 'Üsküdar, Beşiktaş',\n",
       "  'Trabzon': 'Ortahisar,Yomra',\n",
       "  'Konum': 'Türkiye'}}"
      ]
     },
     "execution_count": 94,
     "metadata": {},
     "output_type": "execute_result"
    }
   ],
   "source": [
    "my_info ={\n",
    "    \"name\":\"Örnek\",\n",
    "    \"GSM\":\"05123456789\",\n",
    "    \"email\":\"merhabadunya@python.co\",\n",
    "    \"adres\":{\"istanbul\":\"Üsküdar, Beşiktaş\", \"Trabzon\":\"Ortahisar,Yomra\", \"Konum\":\"Türkiye\"}\n",
    "}\n",
    "my_info"
   ]
  },
  {
   "cell_type": "code",
   "execution_count": 48,
   "metadata": {},
   "outputs": [
    {
     "name": "stdout",
     "output_type": "stream",
     "text": [
      "{'name': 'Ruveyda Ceren', 'lastname': 'Yilmaz', 'username': '@ruveydacerenyilmaz', 'cities': {'İstanbul': 34, 'Giresun': 28, 'Trabzon': 61}}\n",
      "key: name ---> value: Ruveyda Ceren\n",
      "key: lastname ---> value: Yilmaz\n",
      "key: username ---> value: @ruveydacerenyilmaz\n",
      "key: cities ---> value: {'İstanbul': 34, 'Giresun': 28, 'Trabzon': 61}\n"
     ]
    }
   ],
   "source": [
    "my_info = {\"name\": \"Ruveyda Ceren\", \"lastname\": \"Yilmaz\", \"username\":\"@ruveydacerenyilmaz\",\n",
    "    \"cities\":{\"İstanbul\": 34, \"Giresun\": 28, \"Trabzon\": 61}}\n",
    "print(my_info)\n",
    "for key, value in my_info.items():\n",
    "    print(f'key: {key} ---> value: {value}')\n"
   ]
  },
  {
   "cell_type": "code",
   "execution_count": 95,
   "metadata": {},
   "outputs": [
    {
     "data": {
      "text/plain": [
       "'Üsküdar, Beşiktaş'"
      ]
     },
     "execution_count": 95,
     "metadata": {},
     "output_type": "execute_result"
    }
   ],
   "source": [
    "my_info[\"adres\"][\"istanbul\"]"
   ]
  },
  {
   "cell_type": "code",
   "execution_count": 100,
   "metadata": {},
   "outputs": [
    {
     "name": "stdout",
     "output_type": "stream",
     "text": [
      "[2, 3, 4, 8, 9]\n",
      "[(2, 'Basketbol'), (3, 'Futbol'), (4, 'Yüzme'), (8, 'Tenis'), (9, 'Voleybol')]\n",
      "['Basketbol', 'Futbol', 'Tenis', 'Voleybol', 'Yüzme']\n"
     ]
    }
   ],
   "source": [
    "#sorted ile sıralama\n",
    "sports = {\n",
    "    9: \"Voleybol\",\n",
    "    2: \"Basketbol\",\n",
    "    8: \"Tenis\",\n",
    "    4: \"Yüzme\",\n",
    "    3: \"Futbol\"\n",
    "}\n",
    "\n",
    "print(sorted(sports.keys())) #key değerlerine göre\n",
    "print(sorted(sports.items())) #key değerleriyle birlikte valuesleri de sıraladı.\n",
    "print(sorted(sports.values())) #valuesleri sıraladı.\n"
   ]
  },
  {
   "cell_type": "code",
   "execution_count": 104,
   "metadata": {},
   "outputs": [
    {
     "name": "stdout",
     "output_type": "stream",
     "text": [
      "[9, 8, 4, 3, 2]\n",
      "[(9, 'Voleybol'), (8, 'Tenis'), (4, 'Yüzme'), (3, 'Futbol'), (2, 'Basketbol')]\n",
      "['Yüzme', 'Voleybol', 'Tenis', 'Futbol', 'Basketbol']\n"
     ]
    }
   ],
   "source": [
    "# reverse= ile tersten sıralanıyor.\n",
    "print(sorted(sports.keys(), reverse=True))\n",
    "print(sorted(sports.items(), reverse=True)) \n",
    "print(sorted(sports.values(), reverse=True))"
   ]
  },
  {
   "cell_type": "markdown",
   "metadata": {},
   "source": [
    "**Örnek Sorular**"
   ]
  },
  {
   "cell_type": "code",
   "execution_count": 106,
   "metadata": {},
   "outputs": [
    {
     "data": {
      "text/plain": [
       "{'hidrojen': 9, 'oksijen': 15, 'helyum': 8, 'karbon': 12}"
      ]
     },
     "execution_count": 106,
     "metadata": {},
     "output_type": "execute_result"
    }
   ],
   "source": [
    "#key değerlerinin uzunluğu kadar value değerine ekleme yapalım.\n",
    "elements = {\n",
    "    \"hidrojen\": 1,\n",
    "    \"oksijen\":8,\n",
    "    \"helyum\":2,\n",
    "    \"karbon\":6\n",
    "}\n",
    "\n",
    "for key,value in elements.items():\n",
    "    elements[key] = len(key) + value\n",
    "\n",
    "elements"
   ]
  },
  {
   "cell_type": "code",
   "execution_count": 108,
   "metadata": {},
   "outputs": [
    {
     "data": {
      "text/plain": [
       "{'Merve': 35, 'Emre': 37, 'Ayşe': 24, 'Asena': 27, 'Ezgi': 31}"
      ]
     },
     "execution_count": 108,
     "metadata": {},
     "output_type": "execute_result"
    }
   ],
   "source": [
    "# ** ile birleştirme sorusu \n",
    "my_dict1 = {\"Merve\":35, \"Emre\":27, \"Ayşe\":24}\n",
    "my_dict2 = {\"Asena\":27, \"Ezgi\":31,\"Emre\":37}\n",
    "\n",
    "new_dict = {**my_dict1, **my_dict2}\n",
    "new_dict"
   ]
  },
  {
   "cell_type": "code",
   "execution_count": 110,
   "metadata": {},
   "outputs": [
    {
     "data": {
      "text/plain": [
       "{'Merve': 35, 'Emre': 37, 'Ayşe': 24, 'Asena': 27, 'Ezgi': 31}"
      ]
     },
     "execution_count": 110,
     "metadata": {},
     "output_type": "execute_result"
    }
   ],
   "source": [
    "#update ile birleştirme sorusu\n",
    "my_dict1.update(my_dict2)\n",
    "my_dict1"
   ]
  },
  {
   "cell_type": "code",
   "execution_count": 111,
   "metadata": {},
   "outputs": [
    {
     "data": {
      "text/plain": [
       "0"
      ]
     },
     "execution_count": 111,
     "metadata": {},
     "output_type": "execute_result"
    }
   ],
   "source": [
    "# key key'inin valuesine ulaşmalıyız.\n",
    "my_dict = {\n",
    "    \"Python\":\n",
    "        {\n",
    "            \"weeks\":\n",
    "            {\n",
    "                \"data_structures\":\"list\", \n",
    "                \"dict\":\n",
    "                      {\n",
    "                        \"key\":0, \n",
    "                        \"value\":1\n",
    "                      }\n",
    "            }\n",
    "        }\n",
    "    }\n",
    "\n",
    "my_dict[\"Python\"][\"weeks\"][\"dict\"][\"key\"]\n"
   ]
  },
  {
   "cell_type": "code",
   "execution_count": 115,
   "metadata": {},
   "outputs": [
    {
     "data": {
      "text/plain": [
       "{'Adana': 1, 'İstanbul': 34, 'Van': 65}"
      ]
     },
     "execution_count": 115,
     "metadata": {},
     "output_type": "execute_result"
    }
   ],
   "source": [
    "#iki listeyi birleştirip bir sözlük oluşturalım.\n",
    "keys = [\"Adana\", \"İstanbul\", \"Van\"]\n",
    "values = [1, 34, 65]\n",
    "\n",
    "my_dict = {}\n",
    "\n",
    "for i in range(len(keys)):\n",
    "    my_dict.update({keys[i]: values[i]})\n",
    "\n",
    "my_dict"
   ]
  },
  {
   "cell_type": "code",
   "execution_count": 116,
   "metadata": {},
   "outputs": [
    {
     "data": {
      "text/plain": [
       "{'Adana': 1, 'İstanbul': 34, 'Van': 65}"
      ]
     },
     "execution_count": 116,
     "metadata": {},
     "output_type": "execute_result"
    }
   ],
   "source": [
    "#üsttekinin kısa yolu ziple kısalttık\n",
    "keys = [\"Adana\", \"İstanbul\", \"Van\"]\n",
    "values = [1, 34, 65]\n",
    "\n",
    "my_dict = dict(zip(keys,values))\n",
    "\n",
    "my_dict"
   ]
  },
  {
   "cell_type": "code",
   "execution_count": 123,
   "metadata": {},
   "outputs": [
    {
     "data": {
      "text/plain": [
       "{'joey': 'joey_tribbiani',\n",
       " 'rachel': 'rachel_green',\n",
       " 'ross': 'ross_geller',\n",
       " 'monica': 'monica_geller',\n",
       " 'phoebe': 'phoebe_buffay',\n",
       " 'chandler': 'chandler_bing'}"
      ]
     },
     "execution_count": 123,
     "metadata": {},
     "output_type": "execute_result"
    }
   ],
   "source": [
    "#Friends dizisinin oyuncularının isminde oluşan bir sözlüğümüz var.\n",
    "#Joey Tribbiani -> joey_tribbiani olarak değiştirilecek.\n",
    "friends = {\n",
    "    \"joey\":\"Joey Tribbiani\",\n",
    "    \"rachel\":\"Rachel Green\",\n",
    "    \"ross\":\"Ross Geller\",\n",
    "    \"monica\":\"Monica Geller\",\n",
    "    \"phoebe\":\"Phoebe Buffay\",\n",
    "    \"chandler\":\"Chandler Bing\"\n",
    "}\n",
    "\n",
    "for key,value in friends.items():\n",
    "    friends.update({key: value.replace(\" \",\"_\").lower()})\n",
    "    #friends[key] = value.replace(\" \", \"_\").lower()\n",
    "friends"
   ]
  }
 ],
 "metadata": {
  "kernelspec": {
   "display_name": "Python 3.10.6 64-bit",
   "language": "python",
   "name": "python3"
  },
  "language_info": {
   "codemirror_mode": {
    "name": "ipython",
    "version": 3
   },
   "file_extension": ".py",
   "mimetype": "text/x-python",
   "name": "python",
   "nbconvert_exporter": "python",
   "pygments_lexer": "ipython3",
   "version": "3.10.6"
  },
  "orig_nbformat": 4,
  "vscode": {
   "interpreter": {
    "hash": "9624578c985f44420bdf532c620c13a9f13c360a52c0692b61f3ec1fa411c6c5"
   }
  }
 },
 "nbformat": 4,
 "nbformat_minor": 2
}
