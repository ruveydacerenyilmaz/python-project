{
 "cells": [
  {
   "cell_type": "markdown",
   "metadata": {},
   "source": [
    "**Fonksiyonlar**\n",
    "\n",
    "Sürekli tekrarlanması gereken işlemlerde aynı kodu tekrar tekrar yazmadan aynı işlevi birden çok kez gerçekleştirebildiğimiz durumlarda kullanılır.\n",
    "\n",
    "**def** anahtar kelimesi ile oluşturulur.\n",
    "\n",
    "def fonksiyon_ismi(): (required)\n",
    "    return(optional)"
   ]
  },
  {
   "cell_type": "markdown",
   "metadata": {},
   "source": [
    "* Parametreli\n",
    "* Parametresiz"
   ]
  },
  {
   "cell_type": "code",
   "execution_count": 3,
   "metadata": {},
   "outputs": [
    {
     "name": "stdout",
     "output_type": "stream",
     "text": [
      "Hoş geldiniz!\n"
     ]
    }
   ],
   "source": [
    "def selamla():\n",
    "    print(\"Hoş geldiniz!\")\n",
    "\n",
    "selamla()"
   ]
  },
  {
   "cell_type": "code",
   "execution_count": 6,
   "metadata": {},
   "outputs": [
    {
     "name": "stdout",
     "output_type": "stream",
     "text": [
      "Hoş geldin Ceren\n"
     ]
    }
   ],
   "source": [
    "def selamla(name):\n",
    "    print(f\"Hoş geldin {name}!\")\n",
    "\n",
    "selamla(\"Ceren\")"
   ]
  },
  {
   "cell_type": "code",
   "execution_count": 7,
   "metadata": {},
   "outputs": [
    {
     "name": "stdout",
     "output_type": "stream",
     "text": [
      "Sonuç: 13\n"
     ]
    }
   ],
   "source": [
    "def add(num1,num2):\n",
    "    num3 = num1 + num2\n",
    "    return num3\n",
    "result = add(4,9)\n",
    "print(\"Sonuç:\", result)"
   ]
  },
  {
   "cell_type": "code",
   "execution_count": 9,
   "metadata": {},
   "outputs": [
    {
     "name": "stdout",
     "output_type": "stream",
     "text": [
      "Sonuc: 17\n"
     ]
    }
   ],
   "source": [
    "def add(num1, num2):\n",
    "    return num1 + num2\n",
    "\n",
    "def add2(total,x):\n",
    "    print(\"Sonuc:\", (total + x))\n",
    "\n",
    "result = add(4,7)\n",
    "add2(result,6)\n",
    "##print(\"Sonuç:\", add(4,9))"
   ]
  },
  {
   "cell_type": "markdown",
   "metadata": {},
   "source": [
    "Modülün import edilmesi ile beraber fonksiyon kullanımı"
   ]
  },
  {
   "cell_type": "code",
   "execution_count": null,
   "metadata": {},
   "outputs": [],
   "source": [
    "from random import randint\n",
    "\n",
    "print(randint(10,200))"
   ]
  },
  {
   "cell_type": "markdown",
   "metadata": {},
   "source": [
    "**Birden fazla dönüş**"
   ]
  },
  {
   "cell_type": "code",
   "execution_count": 12,
   "metadata": {},
   "outputs": [
    {
     "name": "stdout",
     "output_type": "stream",
     "text": [
      "İki değerin;\n",
      "Toplamı:15\n",
      "Çıkarma:9\n",
      "Çarpma:36\n",
      "Bölme:4.0\n"
     ]
    }
   ],
   "source": [
    "def calculator(num1, num2):\n",
    "    add = num1 + num2\n",
    "    sub = num1 - num2 \n",
    "    multiply = num1 * num2\n",
    "    division = num1 / num2\n",
    "\n",
    "    return add, sub, multiply, division\n",
    "\n",
    "a, b, c, d= calculator(12,3)\n",
    "\n",
    "print(f\"İki değerin;\\nToplamı:{a}\\nÇıkarma:{b}\\nÇarpma:{c}\\nBölme:{d}\")"
   ]
  },
  {
   "cell_type": "markdown",
   "metadata": {},
   "source": [
    "Fonksiyonlar içerisinde değişkenlerin kapsamı\n",
    "* Yerel Değişken\n",
    "* Global Değişken"
   ]
  },
  {
   "cell_type": "code",
   "execution_count": 17,
   "metadata": {},
   "outputs": [
    {
     "name": "stdout",
     "output_type": "stream",
     "text": [
      "Fonksiyon içerisinde Local\n",
      "Fonksiyon içerisinde Global\n",
      "Fonksiyon dışında Global\n"
     ]
    }
   ],
   "source": [
    "from locale import locale_alias\n",
    "\n",
    "\n",
    "global_variable=\"Global\"\n",
    "\n",
    "def func():\n",
    "    local_variable=\"Local\"\n",
    "    print(\"Fonksiyon içerisinde\", local_variable)\n",
    "    print(\"Fonksiyon içerisinde\", global_variable)\n",
    "\n",
    "func()\n",
    "print(\"Fonksiyon dışında\", global_variable)"
   ]
  },
  {
   "cell_type": "code",
   "execution_count": 19,
   "metadata": {},
   "outputs": [
    {
     "name": "stdout",
     "output_type": "stream",
     "text": [
      "9\n",
      "4\n",
      "9\n"
     ]
    }
   ],
   "source": [
    "a = 9\n",
    "\n",
    "def print1():\n",
    "    print(a) #global\n",
    "\n",
    "def print2():\n",
    "    a=4\n",
    "    print(a) #yerel\n",
    "\n",
    "def print3():\n",
    "    print(a) #global\n",
    "\n",
    "print1()\n",
    "print2()\n",
    "print3()"
   ]
  },
  {
   "cell_type": "code",
   "execution_count": 22,
   "metadata": {},
   "outputs": [
    {
     "name": "stdout",
     "output_type": "stream",
     "text": [
      "9\n",
      "4\n",
      "4\n"
     ]
    }
   ],
   "source": [
    "a = 9\n",
    "\n",
    "def print1():\n",
    "    print(a) #global\n",
    "\n",
    "def print2():\n",
    "    global a\n",
    "    a=4\n",
    "    print(a) #global\n",
    "\n",
    "def print3():\n",
    "    print(a) #global\n",
    "\n",
    "print1()\n",
    "print2()\n",
    "print3()"
   ]
  },
  {
   "cell_type": "markdown",
   "metadata": {},
   "source": [
    "Defaul Parametre Tanımlama"
   ]
  },
  {
   "cell_type": "code",
   "execution_count": 26,
   "metadata": {},
   "outputs": [
    {
     "name": "stdout",
     "output_type": "stream",
     "text": [
      "Hoş geldin Ceren\n",
      "Hoş geldin SistersLab\n"
     ]
    }
   ],
   "source": [
    "def say_hello(name = \"SistersLab\"):\n",
    "    print(\"Hoş geldin\", name)\n",
    "\n",
    "say_hello(\"Ceren\")\n",
    "say_hello()"
   ]
  },
  {
   "cell_type": "code",
   "execution_count": 29,
   "metadata": {},
   "outputs": [
    {
     "name": "stdout",
     "output_type": "stream",
     "text": [
      "Rabi adlı personel 26 yaşında. Maaşı: 10000\n",
      "Ceren adlı personel 22 yaşında. Maaşı: 5000\n"
     ]
    }
   ],
   "source": [
    "def person(name,age,salary=  5000):\n",
    "    print(f\"{name} adlı personel {age} yaşında. Maaşı: {salary}\")\n",
    "\n",
    "person(\"Rabi\", 26, 10000)\n",
    "person(\"Ceren\", 22)"
   ]
  },
  {
   "cell_type": "markdown",
   "metadata": {},
   "source": [
    "def func(*var):"
   ]
  },
  {
   "cell_type": "code",
   "execution_count": 33,
   "metadata": {},
   "outputs": [
    {
     "name": "stdout",
     "output_type": "stream",
     "text": [
      "Toplam: 0\n",
      "Toplam: 19\n",
      "Toplam: 110.0\n"
     ]
    }
   ],
   "source": [
    "def add(*numbers): # * birden fazla değer tanımlamak için\n",
    "    total = 0\n",
    "    for i in numbers:\n",
    "        total += i\n",
    "    print(\"Toplam:\", total)\n",
    "\n",
    "add() #0 arguments\n",
    "add(1, 4, 6, 8) # 4 arguments\n",
    "add(13.6, 6.4, 90) #3 arguments"
   ]
  },
  {
   "cell_type": "code",
   "execution_count": 37,
   "metadata": {},
   "outputs": [
    {
     "name": "stdout",
     "output_type": "stream",
     "text": [
      "3ile 17 değerleri arasındaki çift sayıların ortlaması:  10.0\n"
     ]
    }
   ],
   "source": [
    "#Kullanıcının girdiği 2 sayı arasından çift sayıları bulup \n",
    "# ortalamasını alan bir fonskiyon yazalım.\n",
    "def isEven(num):\n",
    "    return num %2 == 0\n",
    "\n",
    "start=int(input(\"Başlangıç değeri: \"))\n",
    "finish=int(input(\"Bitiş değeri: \"))\n",
    "total = count =  0\n",
    "#print(f\"Başlangıç: {start}, Bitiş: {finish}\")\n",
    "\n",
    "for i in range(start, finish+1):\n",
    "    if isEven(i):\n",
    "        total +=i\n",
    "        count +=1\n",
    "\n",
    "print(f\"{start}ile {finish} değerleri arasındaki çift sayıların ortlaması: \", total/count)"
   ]
  },
  {
   "cell_type": "code",
   "execution_count": 40,
   "metadata": {},
   "outputs": [
    {
     "name": "stdout",
     "output_type": "stream",
     "text": [
      "False\n"
     ]
    }
   ],
   "source": [
    "#Bir sayının asal olup olmadığını dönen fonksiyonu yazalım.\n",
    "\n",
    "def asal(number):\n",
    "    result = True\n",
    "    for i in range(2,number):\n",
    "        if number %i ==0:\n",
    "             result = False\n",
    "             break \n",
    "\n",
    "    return result \n",
    "print(asal(17))"
   ]
  }
 ],
 "metadata": {
  "kernelspec": {
   "display_name": "Python 3.10.6 64-bit (system)",
   "language": "python",
   "name": "python3"
  },
  "language_info": {
   "codemirror_mode": {
    "name": "ipython",
    "version": 3
   },
   "file_extension": ".py",
   "mimetype": "text/x-python",
   "name": "python",
   "nbconvert_exporter": "python",
   "pygments_lexer": "ipython3",
   "version": "3.10.6"
  },
  "orig_nbformat": 4,
  "vscode": {
   "interpreter": {
    "hash": "9624578c985f44420bdf532c620c13a9f13c360a52c0692b61f3ec1fa411c6c5"
   }
  }
 },
 "nbformat": 4,
 "nbformat_minor": 2
}
