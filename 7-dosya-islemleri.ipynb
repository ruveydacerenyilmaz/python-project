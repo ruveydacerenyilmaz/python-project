{
 "cells": [
  {
   "cell_type": "markdown",
   "metadata": {},
   "source": [
    "**Dosyalama İşlemleri**\n",
    "\n",
    "* Dosyayı açma\n",
    "* Dosyadan veri okuma\n",
    "* Dosyaya yazma\n",
    "* Dosyayı kapatma"
   ]
  },
  {
   "cell_type": "markdown",
   "metadata": {},
   "source": [
    "open(\"dosya_yolu\", \"erisim_modu\")"
   ]
  },
  {
   "cell_type": "markdown",
   "metadata": {},
   "source": [
    "* w -> write, dosyayı yazma amacıyla oluşturur. Bir dosya zaten varsa dosyanın üzerine yazar.\n",
    "* a -> append, dosyanın sonuna ekler. Ekleme modunda dosyayı açar.\n",
    "* r -> read, dosyayı okuma."
   ]
  },
  {
   "cell_type": "code",
   "execution_count": 11,
   "metadata": {},
   "outputs": [],
   "source": [
    "files = open(\"names.txt\", \"w\", encoding=\"utf-8\")\n",
    "files.write(\"Rüveyda\")\n",
    "files.write(\"Ceren\")\n",
    "files.write(\"Sude\")\n",
    "files.write(\"Rabia\")\n",
    "files.write(\"Şefika\")\n",
    "files.write(\"Nur\")\n",
    "files.close()"
   ]
  },
  {
   "cell_type": "code",
   "execution_count": 12,
   "metadata": {},
   "outputs": [],
   "source": [
    "files = open(\"names.txt\", \"a\", encoding=\"utf-8\")\n",
    "files.write(\"İstanbul\")\n",
    "files.close()"
   ]
  },
  {
   "cell_type": "code",
   "execution_count": 16,
   "metadata": {},
   "outputs": [],
   "source": [
    "liste = [\"Rüveyda\", \"Ceren\", \"Şefika\", \"Nur\", \"Neslihan\", \"Şule\"]\n",
    "files_names = open(\"names2.txt\", \"w\", encoding=\"utf-8\")\n",
    "\n",
    "for name in liste:\n",
    "    files_names.write(name + \"\\n\")\n",
    "files_names.close()"
   ]
  },
  {
   "cell_type": "code",
   "execution_count": 17,
   "metadata": {},
   "outputs": [
    {
     "name": "stdout",
     "output_type": "stream",
     "text": [
      "['.git', '4-fonksiyonlar.ipynb', '4-moduller.ipynb', '5-lambda_filter_map.ipynb', '5-uygulamaseanslaricozum.ipynb', '5-veriyapilari_listeler.ipynb', '5-veriyapilari_tuple.ipynb', '6-uygulamaseanslaricozum.ipynb', '6-veriyapilari-dictionary.ipynb', '6-veriyapilari-set.ipynb', '7-dosya-islemleri.ipynb', '7-excepitons.ipynb', '7-odevler.ipynb', 'names.txt', 'names2.txt', 'README.md']\n"
     ]
    }
   ],
   "source": [
    "import os\n",
    "\n",
    "print(os.listdir())"
   ]
  },
  {
   "cell_type": "code",
   "execution_count": 21,
   "metadata": {},
   "outputs": [
    {
     "name": "stdout",
     "output_type": "stream",
     "text": [
      "names.txt dosyası var mı? True\n",
      "surname.txt dosyası var mı? False\n"
     ]
    }
   ],
   "source": [
    "print(\"names.txt dosyası var mı?\",os.path.isfile(\"names.txt\"))#path bu yol üzerinde var mı yok mu kontrol ediyoruz.\n",
    "print(\"surname.txt dosyası var mı?\",os.path.isfile(\"surname.txt\"))"
   ]
  },
  {
   "cell_type": "markdown",
   "metadata": {},
   "source": [
    "Farklı bir dizinde dosya kontrol işlemi"
   ]
  },
  {
   "cell_type": "code",
   "execution_count": 23,
   "metadata": {},
   "outputs": [],
   "source": [
    "f = open(r'C:\\Users\\Rüveyda\\OneDrive\\Masaüstü\\yazma.txt',\"w\")\n",
    "my_list = [\"Rüveyda\", \"Ceren\", \"Şefika\", \"Nur\", \"Neslihan\", \"Şule\"]\n",
    "\n",
    "for i in my_list:\n",
    "    f.write(i + \"\\n\")\n",
    "f.close()"
   ]
  },
  {
   "cell_type": "code",
   "execution_count": 28,
   "metadata": {},
   "outputs": [],
   "source": [
    "with open(\"greetings.txt\", \"w\")as f1:\n",
    "    f1.write(\"Helloooooooo\")\n",
    "    f1.close()"
   ]
  }
 ],
 "metadata": {
  "kernelspec": {
   "display_name": "Python 3.10.6 64-bit",
   "language": "python",
   "name": "python3"
  },
  "language_info": {
   "codemirror_mode": {
    "name": "ipython",
    "version": 3
   },
   "file_extension": ".py",
   "mimetype": "text/x-python",
   "name": "python",
   "nbconvert_exporter": "python",
   "pygments_lexer": "ipython3",
   "version": "3.10.6"
  },
  "orig_nbformat": 4,
  "vscode": {
   "interpreter": {
    "hash": "9624578c985f44420bdf532c620c13a9f13c360a52c0692b61f3ec1fa411c6c5"
   }
  }
 },
 "nbformat": 4,
 "nbformat_minor": 2
}
