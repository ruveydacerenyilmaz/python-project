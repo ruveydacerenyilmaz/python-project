{
 "cells": [
  {
   "cell_type": "markdown",
   "metadata": {},
   "source": [
    "**Dosyalama İşlemleri**\n",
    "\n",
    "* Dosyayı açma\n",
    "* Dosyadan veri okuma\n",
    "* Dosyaya yazma\n",
    "* Dosyayı kapatma"
   ]
  },
  {
   "cell_type": "markdown",
   "metadata": {},
   "source": [
    "open(\"dosya_yolu\", \"erisim_modu\")"
   ]
  },
  {
   "cell_type": "markdown",
   "metadata": {},
   "source": [
    "* w -> write, dosyayı yazma amacıyla oluşturur. Bir dosya zaten varsa dosyanın üzerine yazar.\n",
    "* a -> append, dosyanın sonuna ekler. Ekleme modunda dosyayı açar.\n"
   ]
  },
  {
   "cell_type": "code",
   "execution_count": 100,
   "metadata": {},
   "outputs": [],
   "source": [
    "files = open(\"names.txt\", \"w\", encoding=\"utf-8\")\n",
    "files.write(\"Rüveyda\")\n",
    "files.write(\"Ceren\")\n",
    "files.write(\"Sude\")\n",
    "files.write(\"Rabia\")\n",
    "files.write(\"Şefika\")\n",
    "files.write(\"Nur\")\n",
    "files.close()"
   ]
  },
  {
   "cell_type": "code",
   "execution_count": 101,
   "metadata": {},
   "outputs": [],
   "source": [
    "files = open(\"names.txt\", \"a\", encoding=\"utf-8\")\n",
    "files.write(\"İstanbul\")\n",
    "files.close()"
   ]
  },
  {
   "cell_type": "code",
   "execution_count": 102,
   "metadata": {},
   "outputs": [],
   "source": [
    "liste = [\"Rüveyda\", \"Ceren\", \"Şefika\", \"Nur\", \"Neslihan\", \"Şule\"]\n",
    "files_names = open(\"names2.txt\", \"w\", encoding=\"utf-8\")\n",
    "\n",
    "for name in liste:\n",
    "    files_names.write(name + \"\\n\")\n",
    "files_names.close()"
   ]
  },
  {
   "cell_type": "code",
   "execution_count": 103,
   "metadata": {},
   "outputs": [
    {
     "name": "stdout",
     "output_type": "stream",
     "text": [
      "['.git', '4-fonksiyonlar.ipynb', '4-moduller.ipynb', '5-lambda_filter_map.ipynb', '5-uygulamaseanslaricozum.ipynb', '5-veriyapilari_listeler.ipynb', '5-veriyapilari_tuple.ipynb', '6-uygulamaseanslaricozum.ipynb', '6-veriyapilari-dictionary.ipynb', '6-veriyapilari-set.ipynb', '7-dosya-islemleri.ipynb', '7-excepitons.ipynb', 'dosyaornegi', 'greetings.txt', 'names.txt', 'names2.txt', 'README.md', 'surname.txt']\n"
     ]
    }
   ],
   "source": [
    "import os\n",
    "#Bulunduğumuz klasör içindeki dosyaları gösteriyor.\n",
    "print(os.listdir())"
   ]
  },
  {
   "cell_type": "code",
   "execution_count": 104,
   "metadata": {},
   "outputs": [
    {
     "name": "stdout",
     "output_type": "stream",
     "text": [
      "names.txt dosyası var mı? True\n",
      "surname.txt dosyası var mı? True\n"
     ]
    }
   ],
   "source": [
    "print(\"names.txt dosyası var mı?\",os.path.isfile(\"names.txt\"))#path bu yol üzerinde var mı yok mu kontrol ediyoruz.\n",
    "print(\"surname.txt dosyası var mı?\",os.path.isfile(\"surname.txt\"))"
   ]
  },
  {
   "cell_type": "markdown",
   "metadata": {},
   "source": [
    "Farklı bir dizinde dosya kontrol işlemi"
   ]
  },
  {
   "cell_type": "code",
   "execution_count": 105,
   "metadata": {},
   "outputs": [],
   "source": [
    "#\"içerisinde de dosya yolu yazılabilir.\"\n",
    "f = open(r'C:\\Users\\Rüveyda\\OneDrive\\Masaüstü\\yazma.txt',\"w\") #şeklinde de dosya yolu giriliyor.\n",
    "my_list = [\"Rüveyda\", \"Ceren\", \"Şefika\", \"Nur\", \"Neslihan\", \"Şule\"]\n",
    "\n",
    "for i in my_list:\n",
    "    f.write(i + \"\\n\")\n",
    "f.close()"
   ]
  },
  {
   "cell_type": "code",
   "execution_count": 106,
   "metadata": {},
   "outputs": [],
   "source": [
    "with open(\"greetings.txt\", \"w\")as f1:\n",
    "    f1.write(\"Helloooooooo\")\n",
    "    f1.close()"
   ]
  },
  {
   "cell_type": "code",
   "execution_count": 26,
   "metadata": {},
   "outputs": [
    {
     "name": "stdout",
     "output_type": "stream",
     "text": [
      "Now:  2022-10-23 11:14:27.148188\n",
      "Gün Ay Yıl:  23-10-2022\n",
      "Gün- AY- Yıl / Saat:Dakika:Saniye   23-10-2022 / 11:14:27\n",
      "Farklı dizinde gün-ay-yıl / saat  23-10-2022 / 11:14:27\n"
     ]
    }
   ],
   "source": [
    "#Belirli aralıklarla çalışan bir kodun, her seferinde o anın tarih ve saat \n",
    "# bilgilerini alarak bir dosya oluşturduğunu varsayalım\n",
    "\n",
    "from datetime import datetime #datetime'in datetime metodunu aldık.\n",
    "time = datetime.now()\n",
    "print(\"Now: \", time)\n",
    "\n",
    "#gün-ay-yıl olacak şekilde değeri alalım\n",
    "print(\"Gün Ay Yıl: \", time.strftime(\"%d-%m-%Y\"))\n",
    "file_name = time.strftime(\"%d-%m-%Y.txt\") #format düzenliyor\n",
    "with open(file_name, \"w\", encoding=\"utf-8\") as f:\n",
    "    f.write(\"Gün Ay Yıl \" + file_name)\n",
    "\n",
    "#gün-ay-yıl ve saat:dakika şeklinde de oluşturalım.\n",
    "print(\"Gün- AY- Yıl / Saat:Dakika:Saniye  \", time.strftime(\"%d-%m-%Y / %H:%M:%S\"))\n",
    "file_name2 = time.strftime(\"%d-%m-%Y-%H-%M-%S.txt\")\n",
    "with open(file_name2, \"w\", encoding=\"utf-8\") as f:\n",
    "    f.write(\"Gün- AY- Yıl / Saat:Dakika:Saniye \\n\" + time.strftime(\"%d-%m-%Y / %H:%M:%S\"))\n",
    "\n",
    "\n",
    "#farklı dizinde dosyayı oluşturma\n",
    "print(\"Farklı dizinde gün-ay-yıl / saat \", time.strftime(\"%d-%m-%Y / %H:%M:%S\"))\n",
    "file_name3 = time.strftime(\"%d-%m-%Y-%H-%M-%S.txt\")\n",
    "with open(r'C:\\Users\\Rüveyda\\OneDrive\\Masaüstü\\sisterslab\\python-project\\python-project\\dosyaornegi\\dosya' + file_name3, \"w\", encoding =\"utf-8\") as f:\n",
    "    f.write(\"Farklı dizinde gün-ay-yıl / saat \" + time.strftime(\"%d-%m-%Y / %H:%M:%S\"))\n",
    "\n"
   ]
  },
  {
   "cell_type": "markdown",
   "metadata": {},
   "source": [
    "**Dosya Okuma**\n",
    "* r -> read, dosyayı okuma."
   ]
  },
  {
   "cell_type": "code",
   "execution_count": 107,
   "metadata": {},
   "outputs": [
    {
     "name": "stdout",
     "output_type": "stream",
     "text": [
      "Rüveyda\n",
      "Ceren\n",
      "Şefika\n",
      "Nur\n",
      "Neslihan\n",
      "Şule\n",
      "\n"
     ]
    }
   ],
   "source": [
    "with open(\"names2.txt\", \"r\", encoding=\"utf-8\") as f:\n",
    "    print(f.read())"
   ]
  },
  {
   "cell_type": "code",
   "execution_count": 111,
   "metadata": {},
   "outputs": [
    {
     "name": "stdout",
     "output_type": "stream",
     "text": [
      "Sude\n",
      "�rem\n",
      "Nihan\n",
      "Zeynep\n",
      "Menek�e\n",
      "�ule\n",
      "\n"
     ]
    }
   ],
   "source": [
    "#var olmayan dosyayı okutmya çalıştığımızda\n",
    "with open(\"surname.txt\", \"r\", encoding=\"utf-8\") as f:\n",
    "    print(f.read())"
   ]
  },
  {
   "cell_type": "code",
   "execution_count": 112,
   "metadata": {},
   "outputs": [
    {
     "name": "stdout",
     "output_type": "stream",
     "text": [
      "Dosya dizinde bulunamadı.\n"
     ]
    }
   ],
   "source": [
    "#okuma işlemi öncesi dosya kontrol işlemi\n",
    "import os\n",
    "\n",
    "if os.path.exists(\"surname2.txt\"):\n",
    "    with open(\"surname2.txt\", \"r\") as f:\n",
    "        print(f.read())\n",
    "else:\n",
    "    print(\"Dosya dizinde bulunamadı.\")"
   ]
  },
  {
   "cell_type": "code",
   "execution_count": 1,
   "metadata": {},
   "outputs": [
    {
     "name": "stdout",
     "output_type": "stream",
     "text": [
      "Sude\n",
      "Irem\n",
      "Nihan\n",
      "Zeynep\n",
      "Menekse\n",
      "\n"
     ]
    }
   ],
   "source": [
    "#okuma işlemi öncesi dosya okuma işlemi\n",
    "import os\n",
    "\n",
    "def read_file():\n",
    "    with open(\"surname.txt\", \"r\") as f:\n",
    "        print(f.read()) #fonksiyon içerisine girip dosyayı okutuyourz.\n",
    "\n",
    "if os.path.exists(\"surname.txt\"):\n",
    "    read_file() #dosyanın var olup olmadığını kontrol ediyor.\n",
    "else: #eğer dosya yoksa oluşturup içine liste yazdırıyoruz.\n",
    "    my_list = [\"Sude\", \"Irem\", \"Nihan\", \"Zeynep\", \"Menekse\"]\n",
    "    with open(\"surname.txt\", \"w\") as f:\n",
    "        for name in my_list:\n",
    "            f.write(name + \"\\n\")\n",
    "    read_file()#yazdırdığımız dosyayı okutuyoruz\n"
   ]
  },
  {
   "cell_type": "markdown",
   "metadata": {},
   "source": [
    "Dosya Okuma Yöntemleri\n",
    "\n",
    "readline() -> Satır satır okuma işlemi"
   ]
  },
  {
   "cell_type": "code",
   "execution_count": 2,
   "metadata": {},
   "outputs": [
    {
     "name": "stdout",
     "output_type": "stream",
     "text": [
      "Sude\n",
      "\n",
      "Irem\n",
      "\n",
      "Nihan\n",
      "\n",
      "Zeynep\n",
      "\n",
      "Menekse\n",
      "\n"
     ]
    }
   ],
   "source": [
    "with open(\"surname.txt\", \"r\") as f: #kendi kendine kapatılıyor close yapmamıza gerek olmadan\n",
    "    lines = f.readlines() #satırları okuyor\n",
    "    for i in lines: \n",
    "        print(i) #satırları yazıyor"
   ]
  },
  {
   "cell_type": "code",
   "execution_count": 3,
   "metadata": {},
   "outputs": [
    {
     "ename": "UnsupportedOperation",
     "evalue": "not writable",
     "output_type": "error",
     "traceback": [
      "\u001b[1;31m---------------------------------------------------------------------------\u001b[0m",
      "\u001b[1;31mUnsupportedOperation\u001b[0m                      Traceback (most recent call last)",
      "\u001b[1;32mc:\\Users\\Rüveyda\\OneDrive\\Masaüstü\\sisterslab\\python-project\\python-project\\7-dosya-islemleri.ipynb Hücre 20\u001b[0m in \u001b[0;36m<cell line: 2>\u001b[1;34m()\u001b[0m\n\u001b[0;32m      <a href='vscode-notebook-cell:/c%3A/Users/R%C3%BCveyda/OneDrive/Masa%C3%BCst%C3%BC/sisterslab/python-project/python-project/7-dosya-islemleri.ipynb#X25sZmlsZQ%3D%3D?line=0'>1</a>\u001b[0m \u001b[39m#Okuma modunda açılan dosyaya ekleme yapmak istersek hata alırız\u001b[39;00m\n\u001b[0;32m      <a href='vscode-notebook-cell:/c%3A/Users/R%C3%BCveyda/OneDrive/Masa%C3%BCst%C3%BC/sisterslab/python-project/python-project/7-dosya-islemleri.ipynb#X25sZmlsZQ%3D%3D?line=1'>2</a>\u001b[0m \u001b[39mwith\u001b[39;00m \u001b[39mopen\u001b[39m(\u001b[39m\"\u001b[39m\u001b[39msurname.txt\u001b[39m\u001b[39m\"\u001b[39m, \u001b[39m\"\u001b[39m\u001b[39mr\u001b[39m\u001b[39m\"\u001b[39m) \u001b[39mas\u001b[39;00m f:\n\u001b[1;32m----> <a href='vscode-notebook-cell:/c%3A/Users/R%C3%BCveyda/OneDrive/Masa%C3%BCst%C3%BC/sisterslab/python-project/python-project/7-dosya-islemleri.ipynb#X25sZmlsZQ%3D%3D?line=2'>3</a>\u001b[0m     f\u001b[39m.\u001b[39;49mwrite(\u001b[39m\"\u001b[39;49m\u001b[39mŞule\u001b[39;49m\u001b[39m\"\u001b[39;49m)\n",
      "\u001b[1;31mUnsupportedOperation\u001b[0m: not writable"
     ]
    }
   ],
   "source": [
    "#Okuma modunda açılan dosyaya ekleme yapmak istersek hata alırız\n",
    "with open(\"surname.txt\", \"r\") as f:\n",
    "    f.write(\"Şule\") "
   ]
  },
  {
   "cell_type": "code",
   "execution_count": 4,
   "metadata": {},
   "outputs": [
    {
     "name": "stdout",
     "output_type": "stream",
     "text": [
      "Sude\n",
      "Irem\n",
      "Nihan\n",
      "Zeynep\n",
      "Menekse\n",
      "\n"
     ]
    }
   ],
   "source": [
    "with open(\"surname.txt\", \"r+\") as f:\n",
    "    print(f.read())\n",
    "    f.write(\"Sule\\n\")"
   ]
  },
  {
   "cell_type": "code",
   "execution_count": 5,
   "metadata": {},
   "outputs": [
    {
     "name": "stdout",
     "output_type": "stream",
     "text": [
      "Sude\n",
      "\n",
      "Irem\n",
      "\n",
      "Nihan\n",
      "\n",
      "Zeynep\n",
      "\n",
      "Menekse\n",
      "\n",
      "Sule\n",
      "\n"
     ]
    }
   ],
   "source": [
    "with open(\"surname.txt\", \"r\") as f:\n",
    "    lines = f.readlines()\n",
    "    for i in lines:\n",
    "        print(i)"
   ]
  },
  {
   "cell_type": "code",
   "execution_count": 6,
   "metadata": {},
   "outputs": [
    {
     "name": "stdout",
     "output_type": "stream",
     "text": [
      "Sule\n",
      "\n",
      "Menekse\n",
      "\n",
      "Zeynep\n",
      "\n",
      "Nihan\n",
      "\n",
      "Irem\n",
      "\n",
      "Sude\n",
      "\n"
     ]
    }
   ],
   "source": [
    "with open(\"surname.txt\", \"r\") as f:\n",
    "    lines = f.readlines()\n",
    "    for i in reversed(lines):\n",
    "        print(i)"
   ]
  },
  {
   "cell_type": "markdown",
   "metadata": {},
   "source": [
    "**Dosya yazma**\n",
    "Hem yazma hem okuma modunda açıyoruz.\n",
    "* w ->yazma yapıyor\n",
    "* w+ ->içeriği ezerek yazma yapıyor.\n",
    "* a ->mevcut dosyanın içini silmeden dosyannın sonuna ekleme yapıyordu\n",
    "* a+ ->"
   ]
  },
  {
   "cell_type": "markdown",
   "metadata": {},
   "source": [
    "**Dosya Yazma Yöntemleri**\n",
    "* write()\n",
    "* writelines()"
   ]
  },
  {
   "cell_type": "code",
   "execution_count": 148,
   "metadata": {},
   "outputs": [],
   "source": [
    "with open(\"names.txt\", \"w\") as f:\n",
    "    f.write(\"Merve\") #1 tane veri ekler"
   ]
  },
  {
   "cell_type": "code",
   "execution_count": 149,
   "metadata": {},
   "outputs": [],
   "source": [
    "with open(\"names.txt\", \"w\", encoding=\"utf-8\") as f:\n",
    "    f.writelines([\"Başak\", \"\\nDilara\", \"\\nMerve\"]) #1den fazla değer ekleyebiliriz.\n",
    "    "
   ]
  },
  {
   "cell_type": "markdown",
   "metadata": {},
   "source": [
    "**Dosya Arama İşlemleri**\n",
    "\n",
    "file.seek(imlecin_konumu) ->imlecin nereden başlanacağı bilgisi\n",
    "\n",
    "* file.seek(8)\n",
    "* file.seek(0,2)\n",
    "* file.seek(4,1)\n",
    "* file.seek(-4,1)\n",
    "* file.seek(-4,2)\n"
   ]
  },
  {
   "cell_type": "code",
   "execution_count": 7,
   "metadata": {},
   "outputs": [
    {
     "name": "stdout",
     "output_type": "stream",
     "text": [
      "de\n",
      "Irem\n",
      "Nihan\n",
      "Zeynep\n",
      "Menekse\n",
      "Sule\n",
      "\n"
     ]
    }
   ],
   "source": [
    "with open(\"surname.txt\", \"r\") as f:\n",
    "    f.seek(2)\n",
    "    print(f.read()) #ilk sıradakinin 2.karakterinden itibaren"
   ]
  },
  {
   "cell_type": "code",
   "execution_count": 8,
   "metadata": {},
   "outputs": [
    {
     "name": "stdout",
     "output_type": "stream",
     "text": [
      "Sule\n",
      "\n"
     ]
    }
   ],
   "source": [
    "with open(\"surname.txt\", \"rb\") as f:\n",
    "    f.seek(-6, 2)\n",
    "    print(f.read().decode(\"utf-8\"))\n"
   ]
  },
  {
   "cell_type": "markdown",
   "metadata": {},
   "source": [
    "**Dosyayı Yeniden Adlandırma**"
   ]
  },
  {
   "cell_type": "code",
   "execution_count": null,
   "metadata": {},
   "outputs": [],
   "source": [
    "import os\n",
    "\n",
    "os.rename(\"name_list.txt\", \"names2.txt\") #iki defa çalıştırınca 2.ind ehata alırız.\n",
    "#Var olmayan dosyanın adını değiştiremiyoruz."
   ]
  },
  {
   "cell_type": "markdown",
   "metadata": {},
   "source": [
    "**Dosya Silme**"
   ]
  },
  {
   "cell_type": "code",
   "execution_count": 131,
   "metadata": {},
   "outputs": [
    {
     "ename": "FileNotFoundError",
     "evalue": "[WinError 2] Sistem belirtilen dosyayı bulamıyor: 'greetings.txt'",
     "output_type": "error",
     "traceback": [
      "\u001b[1;31m---------------------------------------------------------------------------\u001b[0m",
      "\u001b[1;31mFileNotFoundError\u001b[0m                         Traceback (most recent call last)",
      "\u001b[1;32mc:\\Users\\Rüveyda\\OneDrive\\Masaüstü\\sisterslab\\python-project\\python-project\\7-dosya-islemleri.ipynb Hücre 34\u001b[0m in \u001b[0;36m<cell line: 3>\u001b[1;34m()\u001b[0m\n\u001b[0;32m      <a href='vscode-notebook-cell:/c%3A/Users/R%C3%BCveyda/OneDrive/Masa%C3%BCst%C3%BC/sisterslab/python-project/python-project/7-dosya-islemleri.ipynb#X52sZmlsZQ%3D%3D?line=0'>1</a>\u001b[0m \u001b[39mimport\u001b[39;00m \u001b[39mos\u001b[39;00m\n\u001b[0;32m      <a href='vscode-notebook-cell:/c%3A/Users/R%C3%BCveyda/OneDrive/Masa%C3%BCst%C3%BC/sisterslab/python-project/python-project/7-dosya-islemleri.ipynb#X52sZmlsZQ%3D%3D?line=1'>2</a>\u001b[0m \u001b[39m#Var olmayan dosyayı silemiyoruz.\u001b[39;00m\n\u001b[1;32m----> <a href='vscode-notebook-cell:/c%3A/Users/R%C3%BCveyda/OneDrive/Masa%C3%BCst%C3%BC/sisterslab/python-project/python-project/7-dosya-islemleri.ipynb#X52sZmlsZQ%3D%3D?line=2'>3</a>\u001b[0m os\u001b[39m.\u001b[39;49mremove(\u001b[39m\"\u001b[39;49m\u001b[39mgreetings.txt\u001b[39;49m\u001b[39m\"\u001b[39;49m)\n",
      "\u001b[1;31mFileNotFoundError\u001b[0m: [WinError 2] Sistem belirtilen dosyayı bulamıyor: 'greetings.txt'"
     ]
    }
   ],
   "source": [
    "import os\n",
    "#Var olmayan dosyayı silemiyoruz.\n",
    "os.remove(\"greetings.txt\")"
   ]
  }
 ],
 "metadata": {
  "kernelspec": {
   "display_name": "Python 3.10.6 64-bit",
   "language": "python",
   "name": "python3"
  },
  "language_info": {
   "codemirror_mode": {
    "name": "ipython",
    "version": 3
   },
   "file_extension": ".py",
   "mimetype": "text/x-python",
   "name": "python",
   "nbconvert_exporter": "python",
   "pygments_lexer": "ipython3",
   "version": "3.10.6"
  },
  "orig_nbformat": 4,
  "vscode": {
   "interpreter": {
    "hash": "9624578c985f44420bdf532c620c13a9f13c360a52c0692b61f3ec1fa411c6c5"
   }
  }
 },
 "nbformat": 4,
 "nbformat_minor": 2
}
