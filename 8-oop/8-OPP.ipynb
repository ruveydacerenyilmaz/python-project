{
 "cells": [
  {
   "cell_type": "markdown",
   "metadata": {},
   "source": [
    "**Nesne Tabanlı Programlama (Object Oriented Programming - OOP)**"
   ]
  },
  {
   "cell_type": "markdown",
   "metadata": {},
   "source": [
    "Bir sınıf tanımlaması yapmak için;\n",
    "\n",
    "* class sinif_adi():\n",
    "    body\n",
    "\n",
    "* class sinif_adi:\n",
    "    body"
   ]
  },
  {
   "cell_type": "markdown",
   "metadata": {},
   "source": [
    "* class (Sınıf)\n",
    "* object (Nesne)\n",
    "* attributes (Özellik)\n",
    "* metod"
   ]
  },
  {
   "cell_type": "code",
   "execution_count": 1,
   "metadata": {},
   "outputs": [],
   "source": [
    "class Araba:\n",
    "    plaka = \"\"\n",
    "    vites_tipi = \"\"\n",
    "    marka = \"\"\n",
    "    renk = \"\"\n"
   ]
  },
  {
   "cell_type": "code",
   "execution_count": 8,
   "metadata": {},
   "outputs": [],
   "source": [
    "audi = Araba()\n",
    "audi.marka = \"Audi\"\n",
    "audi.plaka = \"34 Python 34\"\n",
    "audi.renk = \"Beyaz\"\n",
    "audi.vites_tipi = \"Manuel Vİtes\""
   ]
  },
  {
   "cell_type": "code",
   "execution_count": 7,
   "metadata": {},
   "outputs": [],
   "source": [
    "bmw = Araba()\n",
    "bmw.marka = \"BMW\"\n",
    "bmw.plaka = \"61 Python 61\"\n",
    "bmw.renk = \"Siyah\"\n",
    "bmw.vites_tipi = \"Otomatik Vites\""
   ]
  },
  {
   "cell_type": "code",
   "execution_count": 9,
   "metadata": {},
   "outputs": [
    {
     "name": "stdout",
     "output_type": "stream",
     "text": [
      "34 Python 34\n",
      "Otomatik Vites\n"
     ]
    }
   ],
   "source": [
    "print(audi.plaka)\n",
    "print(bmw.vites_tipi)"
   ]
  },
  {
   "cell_type": "code",
   "execution_count": 10,
   "metadata": {},
   "outputs": [
    {
     "name": "stdout",
     "output_type": "stream",
     "text": [
      "<class '__main__.Araba'>\n"
     ]
    }
   ],
   "source": [
    "print(type(bmw))"
   ]
  },
  {
   "cell_type": "code",
   "execution_count": 11,
   "metadata": {},
   "outputs": [],
   "source": [
    "class Araba:\n",
    "    plaka = \"\"\n",
    "    vites_tipi = \"\"\n",
    "    marka = \"\"\n",
    "    renk = \"\"\n",
    "    km = 0\n",
    "\n",
    "    def km_arttir(self):\n",
    "        self.km +=100\n",
    "        return self.km"
   ]
  },
  {
   "cell_type": "code",
   "execution_count": 15,
   "metadata": {},
   "outputs": [
    {
     "data": {
      "text/plain": [
       "100"
      ]
     },
     "execution_count": 15,
     "metadata": {},
     "output_type": "execute_result"
    }
   ],
   "source": [
    "bmw = Araba()\n",
    "#attributes.metod\n",
    "\n",
    "bmw.km_arttir()"
   ]
  },
  {
   "cell_type": "markdown",
   "metadata": {},
   "source": [
    "Default Değerler ile Class Oluşturma:"
   ]
  },
  {
   "cell_type": "code",
   "execution_count": 16,
   "metadata": {},
   "outputs": [],
   "source": [
    "class Araba : \n",
    "    plaka = \"\"\n",
    "    vites_tipi = \"Manuel\"\n",
    "    marka = \"Audi\"\n",
    "    renk = \"Sİyah\"\n",
    "    km = 0"
   ]
  },
  {
   "cell_type": "code",
   "execution_count": 21,
   "metadata": {},
   "outputs": [
    {
     "data": {
      "text/plain": [
       "'Manuel'"
      ]
     },
     "execution_count": 21,
     "metadata": {},
     "output_type": "execute_result"
    }
   ],
   "source": [
    "araba = Araba()\n",
    "araba.vites_tipi\n"
   ]
  },
  {
   "cell_type": "markdown",
   "metadata": {},
   "source": [
    "init() fonksiyon"
   ]
  },
  {
   "cell_type": "code",
   "execution_count": 25,
   "metadata": {},
   "outputs": [],
   "source": [
    "class Araba : \n",
    "    def __init__(self, vites_tipi, marka, renk, plaka, hiz) :\n",
    "        self.vites_tipi = vites_tipi\n",
    "        self.marka = marka        \n",
    "        self.renk = renk        \n",
    "        self.plaka = plaka\n",
    "        self.hiz = hiz\n",
    "\n",
    "    def hizArttir(self):\n",
    "        self.hiz +=10\n",
    "        return self.hiz"
   ]
  },
  {
   "cell_type": "code",
   "execution_count": 26,
   "metadata": {},
   "outputs": [
    {
     "data": {
      "text/plain": [
       "90"
      ]
     },
     "execution_count": 26,
     "metadata": {},
     "output_type": "execute_result"
    }
   ],
   "source": [
    "audi_araba = Araba(\"oto\", \"audi\", \"beyaz\", \"34 python 34\", 80)\n",
    "audi_araba.hizArttir()"
   ]
  },
  {
   "cell_type": "code",
   "execution_count": 28,
   "metadata": {},
   "outputs": [
    {
     "name": "stdout",
     "output_type": "stream",
     "text": [
      "Araba ÖZellikleri: \n",
      "Marka:audi\n",
      "Plaka:34 python 34\n",
      "Vites:oto\n",
      "Renk:90\n"
     ]
    }
   ],
   "source": [
    "print(f\"Araba ÖZellikleri: \\nMarka:{audi_araba.marka}\\nPlaka:{audi_araba.plaka}\\nVites:{audi_araba.vites_tipi}\\nRenk:{audi_araba.hiz}\")"
   ]
  },
  {
   "cell_type": "markdown",
   "metadata": {},
   "source": [
    "* Encapsulation (Kapsülleme)\n",
    "* Inheritance (Mİras)\n",
    "* Polymorphism\n",
    "* Abstract Class\n",
    "* Overriding"
   ]
  },
  {
   "cell_type": "markdown",
   "metadata": {},
   "source": [
    "* Encapsulation - Kapsülleme (Erişimi Engelleme)"
   ]
  },
  {
   "cell_type": "code",
   "execution_count": null,
   "metadata": {},
   "outputs": [],
   "source": [
    "class Personel:\n",
    "    def __init__(self, isim, sicilno, maas, departman):\n",
    "        self.isim = isim\n",
    "        self.sicilno = sicilno        \n",
    "        self.maas = maas        \n",
    "        self.departman = departman\n",
    "\n",
    "    def zam(self):\n",
    "        self.maas *=1.4"
   ]
  },
  {
   "cell_type": "code",
   "execution_count": null,
   "metadata": {},
   "outputs": [],
   "source": [
    "tpm = Personel(\"Ümit\", \"TCUMIT\", 10000, \"ICT\")\n",
    "tpm.__maas"
   ]
  },
  {
   "cell_type": "code",
   "execution_count": 31,
   "metadata": {},
   "outputs": [],
   "source": [
    "class Personel:\n",
    "    def __init__(self, isim, sicilno, maas, departman):\n",
    "        self.isim = isim\n",
    "        self.sicilno = sicilno        \n",
    "        self.__maas = maas        \n",
    "        self.departman = departman\n",
    "\n",
    "    def getMAas(self):\n",
    "        return self.__maas\n",
    "\n",
    "    def setMAas(self, yeni_maas):\n",
    "        self.__maas = yeni_maas"
   ]
  },
  {
   "cell_type": "code",
   "execution_count": 36,
   "metadata": {},
   "outputs": [
    {
     "name": "stdout",
     "output_type": "stream",
     "text": [
      "20000\n",
      "25000\n"
     ]
    }
   ],
   "source": [
    "ik = Personel(\"Öykü\", \"TECOYKU\", 20000, \"HR\")\n",
    "print(ik.getMAas())\n",
    "ik.setMAas(25000)\n",
    "print(ik.getMAas())"
   ]
  },
  {
   "cell_type": "markdown",
   "metadata": {},
   "source": [
    "* Inheritance ( Kalıtım- Miras)"
   ]
  },
  {
   "cell_type": "code",
   "execution_count": 46,
   "metadata": {},
   "outputs": [],
   "source": [
    "class Personel:\n",
    "    def __init__(self, isim, sicilno, departman):\n",
    "        self.isim = isim\n",
    "        self.sicilno = sicilno        \n",
    "        self.departman = departman\n",
    "        print(\"Personel Classı oluşturuldu.\")\n",
    "\n",
    "class InSource(Personel):\n",
    "    def __init__(self, isim, sicilno, departman, yanhak):\n",
    "        super().__init__(isim, sicilno, departman)\n",
    "        self.yanhak = yanhak\n",
    "        print(\"Insource Classı oluşturuldu.\")"
   ]
  },
  {
   "cell_type": "code",
   "execution_count": 47,
   "metadata": {},
   "outputs": [
    {
     "name": "stdout",
     "output_type": "stream",
     "text": [
      "Personel Classı oluşturuldu.\n",
      "Insource Classı oluşturuldu.\n"
     ]
    },
    {
     "data": {
      "text/plain": [
       "True"
      ]
     },
     "execution_count": 47,
     "metadata": {},
     "output_type": "execute_result"
    }
   ],
   "source": [
    "personel = InSource(\"Rabia\", \"TCRABIA\", \"ICT\", True)\n",
    "\n",
    "personel.yanhak"
   ]
  },
  {
   "cell_type": "markdown",
   "metadata": {},
   "source": [
    "* Abstract Class (Soyut Sınıflar)"
   ]
  },
  {
   "cell_type": "code",
   "execution_count": 48,
   "metadata": {},
   "outputs": [],
   "source": [
    "from abc import ABC, abstractmethod\n",
    "\n",
    "\n",
    "class Personel(ABC):\n",
    "    @abstractmethod\n",
    "    def yas (self):\n",
    "        pass"
   ]
  },
  {
   "cell_type": "code",
   "execution_count": 52,
   "metadata": {},
   "outputs": [],
   "source": [
    "class outSource(Personel):\n",
    "    def yas(self): #abstractclass tanımlandığında her şeyi miras alıyoruz\n",
    "        return super().yas()"
   ]
  },
  {
   "cell_type": "code",
   "execution_count": 51,
   "metadata": {},
   "outputs": [],
   "source": [
    "staff = outSource()"
   ]
  },
  {
   "cell_type": "markdown",
   "metadata": {},
   "source": [
    "* Overriding (Üzerine Yazma - Var olanı Ezme)"
   ]
  },
  {
   "cell_type": "code",
   "execution_count": 53,
   "metadata": {},
   "outputs": [],
   "source": [
    "class Personel:\n",
    "    def __init__(self, isim, sicilno, departman):\n",
    "        self.isim = isim\n",
    "        self.sicilno = sicilno        \n",
    "        self.departman = departman\n",
    "        print(\"Personel Classı oluşturuldu.\")\n",
    "\n",
    "    def info(self):\n",
    "        print(\"Üst class içindeyim\")"
   ]
  },
  {
   "cell_type": "code",
   "execution_count": 56,
   "metadata": {},
   "outputs": [],
   "source": [
    "class InSource(Personel):\n",
    "    def __init__(self, isim, sicilno, departman):\n",
    "        super().__init__(isim, sicilno, departman)\n",
    "\n",
    "    def info(self):\n",
    "        print(\"Alt sınıfın içindeyim.\")"
   ]
  },
  {
   "cell_type": "code",
   "execution_count": 57,
   "metadata": {},
   "outputs": [
    {
     "name": "stdout",
     "output_type": "stream",
     "text": [
      "Personel Classı oluşturuldu.\n",
      "Alt sınıfın içindeyim.\n"
     ]
    }
   ],
   "source": [
    "personel = InSource(\"Zeynep\", \"TCZEYNEP\", \"DSS\")\n",
    "personel.info()"
   ]
  },
  {
   "cell_type": "markdown",
   "metadata": {},
   "source": [
    "* Polymorphism (Çok Biçimlilik)"
   ]
  },
  {
   "cell_type": "code",
   "execution_count": 64,
   "metadata": {},
   "outputs": [],
   "source": [
    "class Personel:\n",
    "    def __init__(self, isim, sicilno, maas):\n",
    "        self.isim = isim\n",
    "        self.sicilno = sicilno        \n",
    "        self.maas = maas        \n",
    "\n",
    "    def zam(self):\n",
    "        return self.maas * 1.2"
   ]
  },
  {
   "cell_type": "code",
   "execution_count": 65,
   "metadata": {},
   "outputs": [],
   "source": [
    "class InSource(Personel):\n",
    "    def __init__(self, isim, sicilno, maas):\n",
    "        super().__init__(isim, sicilno, maas)\n",
    "        \n",
    "    def zam(self):\n",
    "        return self.maas * 1.4"
   ]
  },
  {
   "cell_type": "code",
   "execution_count": 66,
   "metadata": {},
   "outputs": [],
   "source": [
    "class outSource(Personel):\n",
    "    def __init__(self, isim, sicilno, maas):\n",
    "        super().__init__(isim, sicilno, maas)\n",
    "        \n",
    "    def zam(self):\n",
    "        return self.maas * 1.1"
   ]
  },
  {
   "cell_type": "code",
   "execution_count": 67,
   "metadata": {},
   "outputs": [],
   "source": [
    "personel1 = Personel(\"Ayşe\", \"TCNUR\", 10000)\n",
    "personel2 = InSource(\"Zehra\", \"TCZEHRA\", 10000)\n",
    "personel3 = outSource(\"Sude\", \"TCSUDE\", 10000)"
   ]
  },
  {
   "cell_type": "code",
   "execution_count": 71,
   "metadata": {},
   "outputs": [
    {
     "name": "stdout",
     "output_type": "stream",
     "text": [
      "Ayşe'nin maaşı: 12000.0\n",
      "Zehra'nın maaşı: 14000.0\n",
      "Sude'nin maaşı: 11000.0\n"
     ]
    }
   ],
   "source": [
    "print(\"Ayşe'nin maaşı:\", personel1.zam())\n",
    "print(\"Zehra'nın maaşı:\", personel2.zam())\n",
    "print(\"Sude'nin maaşı:\", personel3.zam())"
   ]
  }
 ],
 "metadata": {
  "kernelspec": {
   "display_name": "Python 3.10.6 64-bit",
   "language": "python",
   "name": "python3"
  },
  "language_info": {
   "codemirror_mode": {
    "name": "ipython",
    "version": 3
   },
   "file_extension": ".py",
   "mimetype": "text/x-python",
   "name": "python",
   "nbconvert_exporter": "python",
   "pygments_lexer": "ipython3",
   "version": "3.10.6"
  },
  "orig_nbformat": 4,
  "vscode": {
   "interpreter": {
    "hash": "9624578c985f44420bdf532c620c13a9f13c360a52c0692b61f3ec1fa411c6c5"
   }
  }
 },
 "nbformat": 4,
 "nbformat_minor": 2
}
