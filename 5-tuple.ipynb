{
 "cells": [
  {
   "cell_type": "markdown",
   "metadata": {},
   "source": [
    "**Tuple**\n",
    "* index ile erişebilir, ordered yani sıralıdır.\n",
    "* Tuple değiştirilemezler (immutable). Oluşturulduktan sonra eleman eklenemez veya silinemez.\n",
    "* ( , , ) parantez içerisinde virgüllerle tanımlanır.\n",
    "* Farklı veri tipleri içerebilir.\n",
    "* Duplicate veri olabilir. Aynı eleman birden fazla yer alabilir.\n"
   ]
  },
  {
   "cell_type": "code",
   "execution_count": 2,
   "metadata": {},
   "outputs": [],
   "source": [
    "int_tuple = (1, 3, 5)\n",
    "str_tuple = (\"Python\", \"Kotlin\", \"Javascript\", \"Flutter\")\n",
    "mix_tuple = (1, 6, 4, 1, \"Python\", True, 13.4)"
   ]
  },
  {
   "cell_type": "code",
   "execution_count": 5,
   "metadata": {},
   "outputs": [
    {
     "name": "stdout",
     "output_type": "stream",
     "text": [
      "(1, 6, 4, 1, 'Python', True, 13.4)\n"
     ]
    },
    {
     "data": {
      "text/plain": [
       "tuple"
      ]
     },
     "execution_count": 5,
     "metadata": {},
     "output_type": "execute_result"
    }
   ],
   "source": [
    "print (mix_tuple)\n",
    "type(mix_tuple) #listenin tipini anlamadığımızda bu şekilde bulabiliriz"
   ]
  },
  {
   "cell_type": "code",
   "execution_count": 6,
   "metadata": {},
   "outputs": [
    {
     "data": {
      "text/plain": [
       "tuple"
      ]
     },
     "execution_count": 6,
     "metadata": {},
     "output_type": "execute_result"
    }
   ],
   "source": [
    "my_tuple = \"Buse\", 23, 7800 #aynı zamanda bir sıralı dizi olduğu için tuple sayılabilir.\n",
    "type(my_tuple) "
   ]
  },
  {
   "cell_type": "code",
   "execution_count": 8,
   "metadata": {},
   "outputs": [
    {
     "name": "stdout",
     "output_type": "stream",
     "text": [
      "Buse 23 7800\n"
     ]
    }
   ],
   "source": [
    "name, age, salary = my_tuple #my_tuple dizisini değişkenlere atadığımızda bu şekilde gözükmektedir.\n",
    "print(name, age, salary)"
   ]
  },
  {
   "cell_type": "code",
   "execution_count": 12,
   "metadata": {},
   "outputs": [
    {
     "name": "stdout",
     "output_type": "stream",
     "text": [
      "Tuple uzunluğu:  3\n"
     ]
    }
   ],
   "source": [
    "print(\"Tuple uzunluğu: \", len(my_tuple)) #Tuple uzunluğunu öğreniriz."
   ]
  },
  {
   "cell_type": "markdown",
   "metadata": {},
   "source": [
    "Döngü ile Erişim "
   ]
  },
  {
   "cell_type": "code",
   "execution_count": 13,
   "metadata": {},
   "outputs": [
    {
     "name": "stdout",
     "output_type": "stream",
     "text": [
      "Buse\n",
      "23\n",
      "7800\n"
     ]
    }
   ],
   "source": [
    "for item in my_tuple: #liste şeklinde çıtkısını böyle alıyoruz.\n",
    "    print(item)"
   ]
  },
  {
   "cell_type": "code",
   "execution_count": 2,
   "metadata": {},
   "outputs": [
    {
     "name": "stdout",
     "output_type": "stream",
     "text": [
      "0. index değeri: Python\n",
      "1. index değeri: Kotlin\n",
      "2. index değeri: Javascript\n",
      "3. index değeri: Flutter\n"
     ]
    }
   ],
   "source": [
    "my_tuple = (\"Python\", \"Kotlin\", \"Javascript\", \"Flutter\")\n",
    "#hangi indexte hangi değer var görüyoruz\n",
    "for i in range(len(my_tuple)):\n",
    "    print(f\"{i}. index değeri: {my_tuple[i]}\")"
   ]
  },
  {
   "cell_type": "code",
   "execution_count": 6,
   "metadata": {},
   "outputs": [
    {
     "name": "stdout",
     "output_type": "stream",
     "text": [
      "Flutter\n"
     ]
    },
    {
     "ename": "IndexError",
     "evalue": "tuple index out of range",
     "output_type": "error",
     "traceback": [
      "\u001b[1;31m---------------------------------------------------------------------------\u001b[0m",
      "\u001b[1;31mIndexError\u001b[0m                                Traceback (most recent call last)",
      "\u001b[1;32mc:\\Users\\Rüveyda\\OneDrive\\Masaüstü\\sisterslab\\python-project\\python-project\\5-tuple.ipynb Hücre 10\u001b[0m in \u001b[0;36m<cell line: 2>\u001b[1;34m()\u001b[0m\n\u001b[0;32m      <a href='vscode-notebook-cell:/c%3A/Users/R%C3%BCveyda/OneDrive/Masa%C3%BCst%C3%BC/sisterslab/python-project/python-project/5-tuple.ipynb#X13sZmlsZQ%3D%3D?line=0'>1</a>\u001b[0m \u001b[39mprint\u001b[39m(my_tuple[\u001b[39m-\u001b[39m\u001b[39m1\u001b[39m])\n\u001b[1;32m----> <a href='vscode-notebook-cell:/c%3A/Users/R%C3%BCveyda/OneDrive/Masa%C3%BCst%C3%BC/sisterslab/python-project/python-project/5-tuple.ipynb#X13sZmlsZQ%3D%3D?line=1'>2</a>\u001b[0m \u001b[39mprint\u001b[39m(my_tuple[\u001b[39m5\u001b[39;49m])\n",
      "\u001b[1;31mIndexError\u001b[0m: tuple index out of range"
     ]
    }
   ],
   "source": [
    "print(my_tuple[-1]) #sonuncu indexi bu şekilde öğrenebiliyoruz\n",
    "print(my_tuple[5]) # var olmayan index hatası"
   ]
  },
  {
   "cell_type": "code",
   "execution_count": 3,
   "metadata": {},
   "outputs": [
    {
     "data": {
      "text/plain": [
       "('Kotlin', 'Javascript')"
      ]
     },
     "execution_count": 3,
     "metadata": {},
     "output_type": "execute_result"
    }
   ],
   "source": [
    "#slicing #1.indexten 3.indexe kadar olan değerleri yazdırıyoruz\n",
    "my_tuple[1:3] "
   ]
  },
  {
   "cell_type": "code",
   "execution_count": 7,
   "metadata": {},
   "outputs": [
    {
     "data": {
      "text/plain": [
       "1"
      ]
     },
     "execution_count": 7,
     "metadata": {},
     "output_type": "execute_result"
    }
   ],
   "source": [
    "#index\n",
    "#my_tuple.index(\"Kotlin\")\n",
    "my_tuple.index(\"Kotlin\", 0, 3) #0 ve 3 indexleri arasında arıyor"
   ]
  },
  {
   "cell_type": "code",
   "execution_count": 9,
   "metadata": {},
   "outputs": [
    {
     "name": "stdout",
     "output_type": "stream",
     "text": [
      "Kotlin tuple içerisinde ekli\n"
     ]
    }
   ],
   "source": [
    "#\"Kotlin\" ifadesi my_tuple dizisinde var mı kontrol etmek için;\n",
    "if \"Kotlin\" in my_tuple:\n",
    "    print(\"Kotlin tuple içerisinde ekli\")\n",
    "else: \n",
    "    print(\"Kotlin tuple içerisinde ekli değil\")"
   ]
  },
  {
   "cell_type": "markdown",
   "metadata": {},
   "source": [
    "Bir tuple üzerinde eleman ekleme, silme, düzenleme işlemleri yapılamaz. Yapıldığı durumda hata alınır."
   ]
  },
  {
   "cell_type": "code",
   "execution_count": 10,
   "metadata": {},
   "outputs": [
    {
     "ename": "TypeError",
     "evalue": "'tuple' object does not support item assignment",
     "output_type": "error",
     "traceback": [
      "\u001b[1;31m---------------------------------------------------------------------------\u001b[0m",
      "\u001b[1;31mTypeError\u001b[0m                                 Traceback (most recent call last)",
      "\u001b[1;32mc:\\Users\\Rüveyda\\OneDrive\\Masaüstü\\sisterslab\\python-project\\python-project\\5-tuple.ipynb Hücre 15\u001b[0m in \u001b[0;36m<cell line: 1>\u001b[1;34m()\u001b[0m\n\u001b[1;32m----> <a href='vscode-notebook-cell:/c%3A/Users/R%C3%BCveyda/OneDrive/Masa%C3%BCst%C3%BC/sisterslab/python-project/python-project/5-tuple.ipynb#X20sZmlsZQ%3D%3D?line=0'>1</a>\u001b[0m my_tuple[\u001b[39m0\u001b[39;49m] \u001b[39m=\u001b[39m \u001b[39m\"\u001b[39m\u001b[39mJava\u001b[39m\u001b[39m\"\u001b[39m\n",
      "\u001b[1;31mTypeError\u001b[0m: 'tuple' object does not support item assignment"
     ]
    }
   ],
   "source": [
    "#index ekleme işlemini tuple'da yapamadığımız için hata aldık\n",
    "my_tuple[0] = \"Java\""
   ]
  },
  {
   "cell_type": "code",
   "execution_count": 19,
   "metadata": {},
   "outputs": [
    {
     "name": "stdout",
     "output_type": "stream",
     "text": [
      "Type:  <class 'tuple'>\n",
      "Tuple:  (1, 2, 3, 4)\n",
      "Convert Type:  <class 'list'>\n",
      "[1, 2, 3, 4]\n",
      "Son Hali:  (0, 1, 2, 3, 4, 5, 6, 7, 8)\n"
     ]
    }
   ],
   "source": [
    "#bir tuple'a değer eklemek için önce listeye çevirdik dha sonra değerleri ekledik ve tekrar tuple'a çevirdik.\n",
    "my_tuple = (1, 2, 3, 4)\n",
    "print(\"Type: \", type(my_tuple))\n",
    "print(\"Tuple: \", my_tuple)\n",
    "\n",
    "temp_list = list(my_tuple)\n",
    "print(\"Convert Type: \", type(temp_list))\n",
    "print(temp_list)\n",
    "\n",
    "temp_list.insert(0, 0)\n",
    "temp_list.append(5)\n",
    "temp_list.extend([6, 7, 8])\n",
    "my_tuple = tuple(temp_list)\n",
    "print(\"Son Hali: \", my_tuple)"
   ]
  },
  {
   "cell_type": "code",
   "execution_count": 20,
   "metadata": {},
   "outputs": [
    {
     "name": "stdout",
     "output_type": "stream",
     "text": [
      "(1, 2, 3, 5, [9, 7, 8], 9)\n"
     ]
    }
   ],
   "source": [
    "#tuple içerisinde bir değeri bu şekilde değiştirebildik, !ekleme yapmadan\n",
    "my_tuple = (1, 2, 3, 5, [6, 7, 8], 9)\n",
    "my_tuple[4][0] =9\n",
    "print(my_tuple)"
   ]
  },
  {
   "cell_type": "code",
   "execution_count": 21,
   "metadata": {},
   "outputs": [
    {
     "name": "stdout",
     "output_type": "stream",
     "text": [
      "(1, 2, 3, 5, [9, 7, 8], 9)\n"
     ]
    }
   ],
   "source": [
    "my_tuple1 = my_tuple\n",
    "print(my_tuple1)"
   ]
  },
  {
   "cell_type": "code",
   "execution_count": 22,
   "metadata": {},
   "outputs": [
    {
     "data": {
      "text/plain": [
       "9"
      ]
     },
     "execution_count": 22,
     "metadata": {},
     "output_type": "execute_result"
    }
   ],
   "source": [
    "my_tuple = (1, 2, 9, 3, 4)\n",
    "max(my_tuple)"
   ]
  }
 ],
 "metadata": {
  "kernelspec": {
   "display_name": "Python 3.10.6 64-bit",
   "language": "python",
   "name": "python3"
  },
  "language_info": {
   "codemirror_mode": {
    "name": "ipython",
    "version": 3
   },
   "file_extension": ".py",
   "mimetype": "text/x-python",
   "name": "python",
   "nbconvert_exporter": "python",
   "pygments_lexer": "ipython3",
   "version": "3.10.6"
  },
  "orig_nbformat": 4,
  "vscode": {
   "interpreter": {
    "hash": "9624578c985f44420bdf532c620c13a9f13c360a52c0692b61f3ec1fa411c6c5"
   }
  }
 },
 "nbformat": 4,
 "nbformat_minor": 2
}
